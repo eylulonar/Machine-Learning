{
  "nbformat": 4,
  "nbformat_minor": 0,
  "metadata": {
    "colab": {
      "name": "CS412-Project",
      "provenance": [],
      "collapsed_sections": []
    },
    "kernelspec": {
      "name": "python3",
      "display_name": "Python 3"
    }
  },
  "cells": [
    {
      "cell_type": "markdown",
      "metadata": {
        "id": "x8KKQetxG_8L"
      },
      "source": [
        "# **Load the Data**"
      ]
    },
    {
      "cell_type": "code",
      "metadata": {
        "colab": {
          "base_uri": "https://localhost:8080/"
        },
        "id": "WJs1vbTVF5lI",
        "outputId": "c7f2d418-8a16-4dee-ab3b-12956e070556"
      },
      "source": [
        "import pandas as pd \n",
        "import numpy as np\n",
        "\n",
        "from google.colab import drive\n",
        "drive.mount('/content/drive')\n",
        "\n",
        "pd.set_option('mode.chained_assignment', None)"
      ],
      "execution_count": 5,
      "outputs": [
        {
          "output_type": "stream",
          "text": [
            "Drive already mounted at /content/drive; to attempt to forcibly remount, call drive.mount(\"/content/drive\", force_remount=True).\n"
          ],
          "name": "stdout"
        }
      ]
    },
    {
      "cell_type": "markdown",
      "metadata": {
        "id": "oy9R-hrHGbWb"
      },
      "source": [
        "Name your file as \"kaggle_traind.xlsx\""
      ]
    },
    {
      "cell_type": "code",
      "metadata": {
        "colab": {
          "base_uri": "https://localhost:8080/",
          "height": 857
        },
        "id": "SMajAhwRGPfl",
        "outputId": "640f8268-acdc-400b-ca11-874405ecf2e8"
      },
      "source": [
        "from os.path import join  # merging paths in a better way\n",
        "\n",
        "data_path = \"/content/drive/My Drive/\"\n",
        "filename = \"kaggle_train.xlsx\"\n",
        "\n",
        "df = pd.read_excel(join(data_path, filename),header=0)\n",
        "\n",
        "df"
      ],
      "execution_count": 8,
      "outputs": [
        {
          "output_type": "execute_result",
          "data": {
            "text/html": [
              "<div>\n",
              "<style scoped>\n",
              "    .dataframe tbody tr th:only-of-type {\n",
              "        vertical-align: middle;\n",
              "    }\n",
              "\n",
              "    .dataframe tbody tr th {\n",
              "        vertical-align: top;\n",
              "    }\n",
              "\n",
              "    .dataframe thead th {\n",
              "        text-align: right;\n",
              "    }\n",
              "</style>\n",
              "<table border=\"1\" class=\"dataframe\">\n",
              "  <thead>\n",
              "    <tr style=\"text-align: right;\">\n",
              "      <th></th>\n",
              "      <th>ID</th>\n",
              "      <th>GenderSelect</th>\n",
              "      <th>Country</th>\n",
              "      <th>Age</th>\n",
              "      <th>EmploymentStatus</th>\n",
              "      <th>CodeWriter</th>\n",
              "      <th>CurrentJobTitleSelect</th>\n",
              "      <th>TitleFit</th>\n",
              "      <th>CurrentEmployerType</th>\n",
              "      <th>MLToolNextYearSelect</th>\n",
              "      <th>MLMethodNextYearSelect</th>\n",
              "      <th>LanguageRecommendationSelect</th>\n",
              "      <th>LearningPlatformUsefulnessBlogs</th>\n",
              "      <th>LearningPlatformUsefulnessKaggle</th>\n",
              "      <th>LearningPlatformUsefulnessCourses</th>\n",
              "      <th>LearningPlatformUsefulnessProjects</th>\n",
              "      <th>LearningPlatformUsefulnessSO</th>\n",
              "      <th>LearningPlatformUsefulnessTextbook</th>\n",
              "      <th>LearningPlatformUsefulnessYouTube</th>\n",
              "      <th>DataScienceIdentitySelect</th>\n",
              "      <th>FormalEducation</th>\n",
              "      <th>MajorSelect</th>\n",
              "      <th>Tenure</th>\n",
              "      <th>PastJobTitlesSelect</th>\n",
              "      <th>MLSkillsSelect</th>\n",
              "      <th>MLTechniquesSelect</th>\n",
              "      <th>EmployerIndustry</th>\n",
              "      <th>EmployerSize</th>\n",
              "      <th>WorkProductionFrequency</th>\n",
              "      <th>WorkAlgorithmsSelect</th>\n",
              "      <th>WorkToolsFrequencyPython</th>\n",
              "      <th>WorkToolsFrequencyR</th>\n",
              "      <th>WorkToolsFrequencySQL</th>\n",
              "      <th>WorkMethodsFrequencyCross-Validation</th>\n",
              "      <th>WorkMethodsFrequencyDataVisualization</th>\n",
              "      <th>WorkMethodsFrequencyDecisionTrees</th>\n",
              "      <th>WorkMethodsFrequencyLogisticRegression</th>\n",
              "      <th>WorkMethodsFrequencyNeuralNetworks</th>\n",
              "      <th>WorkMethodsFrequencyPCA</th>\n",
              "      <th>WorkMethodsFrequencyRandomForests</th>\n",
              "      <th>WorkMethodsFrequencyTimeSeriesAnalysis</th>\n",
              "      <th>WorkChallengeFrequencyPolitics</th>\n",
              "      <th>WorkChallengeFrequencyUnusedResults</th>\n",
              "      <th>WorkChallengeFrequencyDirtyData</th>\n",
              "      <th>WorkChallengeFrequencyExplaining</th>\n",
              "      <th>WorkChallengeFrequencyTalent</th>\n",
              "      <th>WorkChallengeFrequencyClarity</th>\n",
              "      <th>WorkChallengeFrequencyDataAccess</th>\n",
              "      <th>CompensationScore</th>\n",
              "      <th>WorkDataVisualizations</th>\n",
              "      <th>WorkInternalVsExternalTools</th>\n",
              "      <th>WorkMLTeamSeatSelect</th>\n",
              "      <th>RemoteWork</th>\n",
              "      <th>JobSatisfaction</th>\n",
              "    </tr>\n",
              "  </thead>\n",
              "  <tbody>\n",
              "    <tr>\n",
              "      <th>0</th>\n",
              "      <td>1</td>\n",
              "      <td>Male</td>\n",
              "      <td>Pakistan</td>\n",
              "      <td>28.0</td>\n",
              "      <td>Independent contractor, freelancer, or self-em...</td>\n",
              "      <td>Yes</td>\n",
              "      <td>Software Developer/Software Engineer</td>\n",
              "      <td>Fine</td>\n",
              "      <td>Self-employed</td>\n",
              "      <td>Python</td>\n",
              "      <td>Link Analysis</td>\n",
              "      <td>SAS</td>\n",
              "      <td>NaN</td>\n",
              "      <td>NaN</td>\n",
              "      <td>Very useful</td>\n",
              "      <td>NaN</td>\n",
              "      <td>NaN</td>\n",
              "      <td>NaN</td>\n",
              "      <td>Not Useful</td>\n",
              "      <td>Sort of (Explain more)</td>\n",
              "      <td>Bachelor's degree</td>\n",
              "      <td>Information technology, networking, or system ...</td>\n",
              "      <td>3 to 5 years</td>\n",
              "      <td>Programmer,Software Developer/Software Engineer</td>\n",
              "      <td>Survival Analysis</td>\n",
              "      <td>Hidden Markov Models HMMs,Logistic Regression,...</td>\n",
              "      <td>Technology</td>\n",
              "      <td>NaN</td>\n",
              "      <td>Always</td>\n",
              "      <td>Random Forests</td>\n",
              "      <td>Often</td>\n",
              "      <td>NaN</td>\n",
              "      <td>Often</td>\n",
              "      <td>NaN</td>\n",
              "      <td>NaN</td>\n",
              "      <td>NaN</td>\n",
              "      <td>NaN</td>\n",
              "      <td>NaN</td>\n",
              "      <td>NaN</td>\n",
              "      <td>Often</td>\n",
              "      <td>NaN</td>\n",
              "      <td>NaN</td>\n",
              "      <td>NaN</td>\n",
              "      <td>Often</td>\n",
              "      <td>NaN</td>\n",
              "      <td>NaN</td>\n",
              "      <td>NaN</td>\n",
              "      <td>NaN</td>\n",
              "      <td>8.0</td>\n",
              "      <td>51-75% of projects</td>\n",
              "      <td>Approximately half internal and half external</td>\n",
              "      <td>Standalone Team</td>\n",
              "      <td>NaN</td>\n",
              "      <td>4</td>\n",
              "    </tr>\n",
              "    <tr>\n",
              "      <th>1</th>\n",
              "      <td>2</td>\n",
              "      <td>Male</td>\n",
              "      <td>Mexico</td>\n",
              "      <td>26.0</td>\n",
              "      <td>Employed full-time</td>\n",
              "      <td>Yes</td>\n",
              "      <td>Computer Scientist</td>\n",
              "      <td>Poorly</td>\n",
              "      <td>Employed by a company that doesn't perform adv...</td>\n",
              "      <td>Python</td>\n",
              "      <td>Deep learning</td>\n",
              "      <td>Python</td>\n",
              "      <td>Somewhat useful</td>\n",
              "      <td>Very useful</td>\n",
              "      <td>NaN</td>\n",
              "      <td>NaN</td>\n",
              "      <td>NaN</td>\n",
              "      <td>Very useful</td>\n",
              "      <td>NaN</td>\n",
              "      <td>No</td>\n",
              "      <td>Master's degree</td>\n",
              "      <td>Computer Science</td>\n",
              "      <td>1 to 2 years</td>\n",
              "      <td>Computer Scientist,Programmer,Researcher</td>\n",
              "      <td>Natural Language Processing,Supervised Machine...</td>\n",
              "      <td>Bayesian Techniques,Support Vector Machines (S...</td>\n",
              "      <td>Government</td>\n",
              "      <td>1,000 to 4,999 employees</td>\n",
              "      <td>Rarely</td>\n",
              "      <td>Bayesian Techniques,SVMs</td>\n",
              "      <td>Sometimes</td>\n",
              "      <td>Often</td>\n",
              "      <td>NaN</td>\n",
              "      <td>Sometimes</td>\n",
              "      <td>Most of the time</td>\n",
              "      <td>NaN</td>\n",
              "      <td>NaN</td>\n",
              "      <td>NaN</td>\n",
              "      <td>NaN</td>\n",
              "      <td>NaN</td>\n",
              "      <td>Rarely</td>\n",
              "      <td>NaN</td>\n",
              "      <td>NaN</td>\n",
              "      <td>NaN</td>\n",
              "      <td>NaN</td>\n",
              "      <td>Often</td>\n",
              "      <td>NaN</td>\n",
              "      <td>NaN</td>\n",
              "      <td>NaN</td>\n",
              "      <td>100% of projects</td>\n",
              "      <td>More internal than external</td>\n",
              "      <td>Business Department</td>\n",
              "      <td>NaN</td>\n",
              "      <td>7</td>\n",
              "    </tr>\n",
              "    <tr>\n",
              "      <th>2</th>\n",
              "      <td>3</td>\n",
              "      <td>Female</td>\n",
              "      <td>United States</td>\n",
              "      <td>34.0</td>\n",
              "      <td>Employed full-time</td>\n",
              "      <td>Yes</td>\n",
              "      <td>Data Analyst</td>\n",
              "      <td>Fine</td>\n",
              "      <td>Employed by government</td>\n",
              "      <td>TensorFlow</td>\n",
              "      <td>Deep learning</td>\n",
              "      <td>Python</td>\n",
              "      <td>Very useful</td>\n",
              "      <td>NaN</td>\n",
              "      <td>Somewhat useful</td>\n",
              "      <td>NaN</td>\n",
              "      <td>NaN</td>\n",
              "      <td>Somewhat useful</td>\n",
              "      <td>Somewhat useful</td>\n",
              "      <td>Sort of (Explain more)</td>\n",
              "      <td>Doctoral degree</td>\n",
              "      <td>Mathematics or statistics</td>\n",
              "      <td>6 to 10 years</td>\n",
              "      <td>Engineer,Operations Research Practitioner,Pred...</td>\n",
              "      <td>Supervised Machine Learning (Tabular Data)</td>\n",
              "      <td>Ensemble Methods,Evolutionary Approaches,Neura...</td>\n",
              "      <td>Government</td>\n",
              "      <td>1,000 to 4,999 employees</td>\n",
              "      <td>Rarely</td>\n",
              "      <td>Neural Networks,Regression/Logistic Regression</td>\n",
              "      <td>Sometimes</td>\n",
              "      <td>Often</td>\n",
              "      <td>NaN</td>\n",
              "      <td>Often</td>\n",
              "      <td>Often</td>\n",
              "      <td>NaN</td>\n",
              "      <td>NaN</td>\n",
              "      <td>Often</td>\n",
              "      <td>Sometimes</td>\n",
              "      <td>NaN</td>\n",
              "      <td>Sometimes</td>\n",
              "      <td>NaN</td>\n",
              "      <td>Sometimes</td>\n",
              "      <td>NaN</td>\n",
              "      <td>NaN</td>\n",
              "      <td>Sometimes</td>\n",
              "      <td>NaN</td>\n",
              "      <td>Most of the time</td>\n",
              "      <td>2.0</td>\n",
              "      <td>10-25% of projects</td>\n",
              "      <td>More internal than external</td>\n",
              "      <td>Other</td>\n",
              "      <td>Rarely</td>\n",
              "      <td>6</td>\n",
              "    </tr>\n",
              "    <tr>\n",
              "      <th>3</th>\n",
              "      <td>4</td>\n",
              "      <td>Female</td>\n",
              "      <td>United States</td>\n",
              "      <td>33.0</td>\n",
              "      <td>Employed full-time</td>\n",
              "      <td>Yes</td>\n",
              "      <td>Scientist/Researcher</td>\n",
              "      <td>Fine</td>\n",
              "      <td>Employed by college or university</td>\n",
              "      <td>IBM Watson / Waton Analytics</td>\n",
              "      <td>Cluster Analysis</td>\n",
              "      <td>Python</td>\n",
              "      <td>NaN</td>\n",
              "      <td>NaN</td>\n",
              "      <td>Very useful</td>\n",
              "      <td>NaN</td>\n",
              "      <td>Somewhat useful</td>\n",
              "      <td>NaN</td>\n",
              "      <td>NaN</td>\n",
              "      <td>No</td>\n",
              "      <td>Doctoral degree</td>\n",
              "      <td>Engineering (non-computer focused)</td>\n",
              "      <td>More than 10 years</td>\n",
              "      <td>Engineer,Researcher</td>\n",
              "      <td>Computer Vision</td>\n",
              "      <td>Bayesian Techniques,Support Vector Machines (S...</td>\n",
              "      <td>Academic</td>\n",
              "      <td>5,000 to 9,999 employees</td>\n",
              "      <td>Sometimes</td>\n",
              "      <td>Markov Logic Networks,Regression/Logistic Regr...</td>\n",
              "      <td>Sometimes</td>\n",
              "      <td>NaN</td>\n",
              "      <td>NaN</td>\n",
              "      <td>NaN</td>\n",
              "      <td>Often</td>\n",
              "      <td>NaN</td>\n",
              "      <td>Sometimes</td>\n",
              "      <td>NaN</td>\n",
              "      <td>Often</td>\n",
              "      <td>NaN</td>\n",
              "      <td>Sometimes</td>\n",
              "      <td>NaN</td>\n",
              "      <td>NaN</td>\n",
              "      <td>NaN</td>\n",
              "      <td>NaN</td>\n",
              "      <td>NaN</td>\n",
              "      <td>Rarely</td>\n",
              "      <td>Rarely</td>\n",
              "      <td>2.0</td>\n",
              "      <td>76-99% of projects</td>\n",
              "      <td>Do not know</td>\n",
              "      <td>Other</td>\n",
              "      <td>Rarely</td>\n",
              "      <td>9</td>\n",
              "    </tr>\n",
              "    <tr>\n",
              "      <th>4</th>\n",
              "      <td>5</td>\n",
              "      <td>Female</td>\n",
              "      <td>United States</td>\n",
              "      <td>35.0</td>\n",
              "      <td>Employed full-time</td>\n",
              "      <td>Yes</td>\n",
              "      <td>Software Developer/Software Engineer</td>\n",
              "      <td>Fine</td>\n",
              "      <td>Employed by a company that performs advanced a...</td>\n",
              "      <td>Google Cloud Compute</td>\n",
              "      <td>Neural Nets</td>\n",
              "      <td>Python</td>\n",
              "      <td>NaN</td>\n",
              "      <td>Very useful</td>\n",
              "      <td>Somewhat useful</td>\n",
              "      <td>NaN</td>\n",
              "      <td>NaN</td>\n",
              "      <td>Very useful</td>\n",
              "      <td>NaN</td>\n",
              "      <td>No</td>\n",
              "      <td>Doctoral degree</td>\n",
              "      <td>Mathematics or statistics</td>\n",
              "      <td>More than 10 years</td>\n",
              "      <td>Researcher,Software Developer/Software Engineer</td>\n",
              "      <td>Computer Vision</td>\n",
              "      <td>Bayesian Techniques,Evolutionary Approaches,Lo...</td>\n",
              "      <td>Internet-based</td>\n",
              "      <td>10,000 or more employees</td>\n",
              "      <td>Sometimes</td>\n",
              "      <td>Bayesian Techniques,CNNs,Regression/Logistic R...</td>\n",
              "      <td>Most of the time</td>\n",
              "      <td>NaN</td>\n",
              "      <td>NaN</td>\n",
              "      <td>Most of the time</td>\n",
              "      <td>Most of the time</td>\n",
              "      <td>NaN</td>\n",
              "      <td>Sometimes</td>\n",
              "      <td>Most of the time</td>\n",
              "      <td>Sometimes</td>\n",
              "      <td>NaN</td>\n",
              "      <td>NaN</td>\n",
              "      <td>NaN</td>\n",
              "      <td>NaN</td>\n",
              "      <td>NaN</td>\n",
              "      <td>NaN</td>\n",
              "      <td>NaN</td>\n",
              "      <td>NaN</td>\n",
              "      <td>Sometimes</td>\n",
              "      <td>8.0</td>\n",
              "      <td>100% of projects</td>\n",
              "      <td>Entirely internal</td>\n",
              "      <td>Other</td>\n",
              "      <td>Rarely</td>\n",
              "      <td>8</td>\n",
              "    </tr>\n",
              "    <tr>\n",
              "      <th>...</th>\n",
              "      <td>...</td>\n",
              "      <td>...</td>\n",
              "      <td>...</td>\n",
              "      <td>...</td>\n",
              "      <td>...</td>\n",
              "      <td>...</td>\n",
              "      <td>...</td>\n",
              "      <td>...</td>\n",
              "      <td>...</td>\n",
              "      <td>...</td>\n",
              "      <td>...</td>\n",
              "      <td>...</td>\n",
              "      <td>...</td>\n",
              "      <td>...</td>\n",
              "      <td>...</td>\n",
              "      <td>...</td>\n",
              "      <td>...</td>\n",
              "      <td>...</td>\n",
              "      <td>...</td>\n",
              "      <td>...</td>\n",
              "      <td>...</td>\n",
              "      <td>...</td>\n",
              "      <td>...</td>\n",
              "      <td>...</td>\n",
              "      <td>...</td>\n",
              "      <td>...</td>\n",
              "      <td>...</td>\n",
              "      <td>...</td>\n",
              "      <td>...</td>\n",
              "      <td>...</td>\n",
              "      <td>...</td>\n",
              "      <td>...</td>\n",
              "      <td>...</td>\n",
              "      <td>...</td>\n",
              "      <td>...</td>\n",
              "      <td>...</td>\n",
              "      <td>...</td>\n",
              "      <td>...</td>\n",
              "      <td>...</td>\n",
              "      <td>...</td>\n",
              "      <td>...</td>\n",
              "      <td>...</td>\n",
              "      <td>...</td>\n",
              "      <td>...</td>\n",
              "      <td>...</td>\n",
              "      <td>...</td>\n",
              "      <td>...</td>\n",
              "      <td>...</td>\n",
              "      <td>...</td>\n",
              "      <td>...</td>\n",
              "      <td>...</td>\n",
              "      <td>...</td>\n",
              "      <td>...</td>\n",
              "      <td>...</td>\n",
              "    </tr>\n",
              "    <tr>\n",
              "      <th>5524</th>\n",
              "      <td>5525</td>\n",
              "      <td>Male</td>\n",
              "      <td>Canada</td>\n",
              "      <td>48.0</td>\n",
              "      <td>Employed full-time</td>\n",
              "      <td>Yes</td>\n",
              "      <td>Data Scientist</td>\n",
              "      <td>Fine</td>\n",
              "      <td>Employed by professional services/consulting firm</td>\n",
              "      <td>DataRobot</td>\n",
              "      <td>Neural Nets</td>\n",
              "      <td>SAS</td>\n",
              "      <td>NaN</td>\n",
              "      <td>NaN</td>\n",
              "      <td>NaN</td>\n",
              "      <td>NaN</td>\n",
              "      <td>NaN</td>\n",
              "      <td>NaN</td>\n",
              "      <td>NaN</td>\n",
              "      <td>NaN</td>\n",
              "      <td>Doctoral degree</td>\n",
              "      <td>Mathematics or statistics</td>\n",
              "      <td>More than 10 years</td>\n",
              "      <td>Data Analyst,Data Scientist,Predictive Modeler...</td>\n",
              "      <td>Outlier detection (e.g. Fraud detection),Super...</td>\n",
              "      <td>Decision Trees - Gradient Boosted Machines,Dec...</td>\n",
              "      <td>Mix of fields</td>\n",
              "      <td>20 to 99 employees</td>\n",
              "      <td>Always</td>\n",
              "      <td>Decision Trees,Markov Logic Networks,Regressio...</td>\n",
              "      <td>Most of the time</td>\n",
              "      <td>NaN</td>\n",
              "      <td>Most of the time</td>\n",
              "      <td>Most of the time</td>\n",
              "      <td>Most of the time</td>\n",
              "      <td>Most of the time</td>\n",
              "      <td>Most of the time</td>\n",
              "      <td>Most of the time</td>\n",
              "      <td>Most of the time</td>\n",
              "      <td>Most of the time</td>\n",
              "      <td>Most of the time</td>\n",
              "      <td>Sometimes</td>\n",
              "      <td>NaN</td>\n",
              "      <td>NaN</td>\n",
              "      <td>NaN</td>\n",
              "      <td>NaN</td>\n",
              "      <td>NaN</td>\n",
              "      <td>NaN</td>\n",
              "      <td>1.0</td>\n",
              "      <td>51-75% of projects</td>\n",
              "      <td>Entirely internal</td>\n",
              "      <td>Business Department</td>\n",
              "      <td>Sometimes</td>\n",
              "      <td>8</td>\n",
              "    </tr>\n",
              "    <tr>\n",
              "      <th>5525</th>\n",
              "      <td>5526</td>\n",
              "      <td>Male</td>\n",
              "      <td>Ireland</td>\n",
              "      <td>27.0</td>\n",
              "      <td>Employed full-time</td>\n",
              "      <td>Yes</td>\n",
              "      <td>Data Scientist</td>\n",
              "      <td>Fine</td>\n",
              "      <td>Employed by professional services/consulting firm</td>\n",
              "      <td>Spark / MLlib</td>\n",
              "      <td>I don't plan on learning a new ML/DS method</td>\n",
              "      <td>Python</td>\n",
              "      <td>Somewhat useful</td>\n",
              "      <td>Somewhat useful</td>\n",
              "      <td>NaN</td>\n",
              "      <td>Very useful</td>\n",
              "      <td>Very useful</td>\n",
              "      <td>NaN</td>\n",
              "      <td>Somewhat useful</td>\n",
              "      <td>NaN</td>\n",
              "      <td>Master's degree</td>\n",
              "      <td>Mathematics or statistics</td>\n",
              "      <td>3 to 5 years</td>\n",
              "      <td>Data Scientist,Software Developer/Software Eng...</td>\n",
              "      <td>Natural Language Processing,Recommendation Eng...</td>\n",
              "      <td>Decision Trees - Random Forests</td>\n",
              "      <td>Internet-based</td>\n",
              "      <td>100 to 499 employees</td>\n",
              "      <td>Most of the time</td>\n",
              "      <td>Regression/Logistic Regression</td>\n",
              "      <td>Most of the time</td>\n",
              "      <td>Most of the time</td>\n",
              "      <td>Most of the time</td>\n",
              "      <td>NaN</td>\n",
              "      <td>Often</td>\n",
              "      <td>NaN</td>\n",
              "      <td>NaN</td>\n",
              "      <td>NaN</td>\n",
              "      <td>NaN</td>\n",
              "      <td>NaN</td>\n",
              "      <td>NaN</td>\n",
              "      <td>NaN</td>\n",
              "      <td>NaN</td>\n",
              "      <td>NaN</td>\n",
              "      <td>NaN</td>\n",
              "      <td>NaN</td>\n",
              "      <td>NaN</td>\n",
              "      <td>Sometimes</td>\n",
              "      <td>1.0</td>\n",
              "      <td>Less than 10% of projects</td>\n",
              "      <td>More internal than external</td>\n",
              "      <td>IT Department</td>\n",
              "      <td>Rarely</td>\n",
              "      <td>8</td>\n",
              "    </tr>\n",
              "    <tr>\n",
              "      <th>5526</th>\n",
              "      <td>5527</td>\n",
              "      <td>Female</td>\n",
              "      <td>United States</td>\n",
              "      <td>30.0</td>\n",
              "      <td>Employed part-time</td>\n",
              "      <td>Yes</td>\n",
              "      <td>Computer Scientist</td>\n",
              "      <td>Perfectly</td>\n",
              "      <td>Employed by non-profit or NGO</td>\n",
              "      <td>Python</td>\n",
              "      <td>Deep learning</td>\n",
              "      <td>Python</td>\n",
              "      <td>Somewhat useful</td>\n",
              "      <td>NaN</td>\n",
              "      <td>Very useful</td>\n",
              "      <td>NaN</td>\n",
              "      <td>NaN</td>\n",
              "      <td>NaN</td>\n",
              "      <td>Very useful</td>\n",
              "      <td>Sort of (Explain more)</td>\n",
              "      <td>Doctoral degree</td>\n",
              "      <td>Electrical Engineering</td>\n",
              "      <td>3 to 5 years</td>\n",
              "      <td>Researcher</td>\n",
              "      <td>Computer Vision,Supervised Machine Learning (T...</td>\n",
              "      <td>Decision Trees - Gradient Boosted Machines,Dec...</td>\n",
              "      <td>Non-profit</td>\n",
              "      <td>100 to 499 employees</td>\n",
              "      <td>Most of the time</td>\n",
              "      <td>CNNs,Decision Trees,Ensemble Methods,Gradient ...</td>\n",
              "      <td>Often</td>\n",
              "      <td>NaN</td>\n",
              "      <td>NaN</td>\n",
              "      <td>Most of the time</td>\n",
              "      <td>Often</td>\n",
              "      <td>Most of the time</td>\n",
              "      <td>Sometimes</td>\n",
              "      <td>Sometimes</td>\n",
              "      <td>NaN</td>\n",
              "      <td>Often</td>\n",
              "      <td>NaN</td>\n",
              "      <td>Sometimes</td>\n",
              "      <td>NaN</td>\n",
              "      <td>Most of the time</td>\n",
              "      <td>Often</td>\n",
              "      <td>Sometimes</td>\n",
              "      <td>NaN</td>\n",
              "      <td>Most of the time</td>\n",
              "      <td>2.0</td>\n",
              "      <td>10-25% of projects</td>\n",
              "      <td>Approximately half internal and half external</td>\n",
              "      <td>Standalone Team</td>\n",
              "      <td>Sometimes</td>\n",
              "      <td>8</td>\n",
              "    </tr>\n",
              "    <tr>\n",
              "      <th>5527</th>\n",
              "      <td>5528</td>\n",
              "      <td>Female</td>\n",
              "      <td>United States</td>\n",
              "      <td>29.0</td>\n",
              "      <td>Employed full-time</td>\n",
              "      <td>Yes</td>\n",
              "      <td>Operations Research Practitioner</td>\n",
              "      <td>Fine</td>\n",
              "      <td>Employed by professional services/consulting f...</td>\n",
              "      <td>Amazon Web services</td>\n",
              "      <td>Other</td>\n",
              "      <td>Python</td>\n",
              "      <td>Very useful</td>\n",
              "      <td>NaN</td>\n",
              "      <td>NaN</td>\n",
              "      <td>NaN</td>\n",
              "      <td>Very useful</td>\n",
              "      <td>NaN</td>\n",
              "      <td>Somewhat useful</td>\n",
              "      <td>Yes</td>\n",
              "      <td>Master's degree</td>\n",
              "      <td>Mathematics or statistics</td>\n",
              "      <td>6 to 10 years</td>\n",
              "      <td>Business Analyst,Operations Research Practitioner</td>\n",
              "      <td>Supervised Machine Learning (Tabular Data)</td>\n",
              "      <td>Decision Trees - Random Forests,Logistic Regre...</td>\n",
              "      <td>Mix of fields</td>\n",
              "      <td>20 to 99 employees</td>\n",
              "      <td>Most of the time</td>\n",
              "      <td>Decision Trees,Regression/Logistic Regression</td>\n",
              "      <td>Sometimes</td>\n",
              "      <td>Most of the time</td>\n",
              "      <td>Often</td>\n",
              "      <td>Sometimes</td>\n",
              "      <td>NaN</td>\n",
              "      <td>Often</td>\n",
              "      <td>Sometimes</td>\n",
              "      <td>NaN</td>\n",
              "      <td>NaN</td>\n",
              "      <td>Sometimes</td>\n",
              "      <td>Sometimes</td>\n",
              "      <td>NaN</td>\n",
              "      <td>NaN</td>\n",
              "      <td>Sometimes</td>\n",
              "      <td>NaN</td>\n",
              "      <td>NaN</td>\n",
              "      <td>NaN</td>\n",
              "      <td>NaN</td>\n",
              "      <td>6.0</td>\n",
              "      <td>51-75% of projects</td>\n",
              "      <td>More internal than external</td>\n",
              "      <td>Standalone Team</td>\n",
              "      <td>Rarely</td>\n",
              "      <td>9</td>\n",
              "    </tr>\n",
              "    <tr>\n",
              "      <th>5528</th>\n",
              "      <td>5529</td>\n",
              "      <td>Male</td>\n",
              "      <td>South Africa</td>\n",
              "      <td>35.0</td>\n",
              "      <td>Employed full-time</td>\n",
              "      <td>Yes</td>\n",
              "      <td>Statistician</td>\n",
              "      <td>Fine</td>\n",
              "      <td>Employed by professional services/consulting firm</td>\n",
              "      <td>R</td>\n",
              "      <td>Factor Analysis</td>\n",
              "      <td>Python</td>\n",
              "      <td>NaN</td>\n",
              "      <td>NaN</td>\n",
              "      <td>Somewhat useful</td>\n",
              "      <td>NaN</td>\n",
              "      <td>NaN</td>\n",
              "      <td>NaN</td>\n",
              "      <td>Somewhat useful</td>\n",
              "      <td>Sort of (Explain more)</td>\n",
              "      <td>Master's degree</td>\n",
              "      <td>Mathematics or statistics</td>\n",
              "      <td>3 to 5 years</td>\n",
              "      <td>Predictive Modeler,Researcher,Statistician</td>\n",
              "      <td>Time Series</td>\n",
              "      <td>Bayesian Techniques,Logistic Regression</td>\n",
              "      <td>Financial</td>\n",
              "      <td>20 to 99 employees</td>\n",
              "      <td>Sometimes</td>\n",
              "      <td>Bayesian Techniques,Regression/Logistic Regres...</td>\n",
              "      <td>NaN</td>\n",
              "      <td>Sometimes</td>\n",
              "      <td>NaN</td>\n",
              "      <td>NaN</td>\n",
              "      <td>NaN</td>\n",
              "      <td>NaN</td>\n",
              "      <td>Sometimes</td>\n",
              "      <td>NaN</td>\n",
              "      <td>NaN</td>\n",
              "      <td>NaN</td>\n",
              "      <td>Sometimes</td>\n",
              "      <td>NaN</td>\n",
              "      <td>NaN</td>\n",
              "      <td>Often</td>\n",
              "      <td>NaN</td>\n",
              "      <td>NaN</td>\n",
              "      <td>NaN</td>\n",
              "      <td>Sometimes</td>\n",
              "      <td>8.0</td>\n",
              "      <td>Less than 10% of projects</td>\n",
              "      <td>More internal than external</td>\n",
              "      <td>Standalone Team</td>\n",
              "      <td>Rarely</td>\n",
              "      <td>8</td>\n",
              "    </tr>\n",
              "  </tbody>\n",
              "</table>\n",
              "<p>5529 rows × 54 columns</p>\n",
              "</div>"
            ],
            "text/plain": [
              "        ID GenderSelect  ... RemoteWork  JobSatisfaction\n",
              "0        1         Male  ...        NaN                4\n",
              "1        2         Male  ...        NaN                7\n",
              "2        3       Female  ...     Rarely                6\n",
              "3        4       Female  ...     Rarely                9\n",
              "4        5       Female  ...     Rarely                8\n",
              "...    ...          ...  ...        ...              ...\n",
              "5524  5525         Male  ...  Sometimes                8\n",
              "5525  5526         Male  ...     Rarely                8\n",
              "5526  5527       Female  ...  Sometimes                8\n",
              "5527  5528       Female  ...     Rarely                9\n",
              "5528  5529         Male  ...     Rarely                8\n",
              "\n",
              "[5529 rows x 54 columns]"
            ]
          },
          "metadata": {
            "tags": []
          },
          "execution_count": 8
        }
      ]
    },
    {
      "cell_type": "markdown",
      "metadata": {
        "id": "Tfp5uBbrG3ca"
      },
      "source": [
        "# **Preprocess the Data**"
      ]
    },
    {
      "cell_type": "code",
      "metadata": {
        "colab": {
          "base_uri": "https://localhost:8080/"
        },
        "id": "sa7sOHiXHRp0",
        "outputId": "c490f30a-ad2f-4e7a-cb45-16dff7a3de51"
      },
      "source": [
        "df.shape"
      ],
      "execution_count": 19,
      "outputs": [
        {
          "output_type": "execute_result",
          "data": {
            "text/plain": [
              "(5529, 54)"
            ]
          },
          "metadata": {
            "tags": []
          },
          "execution_count": 19
        }
      ]
    },
    {
      "cell_type": "markdown",
      "metadata": {
        "id": "xvL0GdapTOoh"
      },
      "source": [
        "## **NaN Values**"
      ]
    },
    {
      "cell_type": "code",
      "metadata": {
        "colab": {
          "base_uri": "https://localhost:8080/"
        },
        "id": "tfUKJMbJHYvu",
        "outputId": "c616e6cf-9093-468b-ae79-d5ea155d4103"
      },
      "source": [
        "#Print number of NaN values\n",
        "\n",
        "df.isna().sum()"
      ],
      "execution_count": 20,
      "outputs": [
        {
          "output_type": "execute_result",
          "data": {
            "text/plain": [
              "ID                                           0\n",
              "GenderSelect                                10\n",
              "Country                                     16\n",
              "Age                                         68\n",
              "EmploymentStatus                             0\n",
              "CodeWriter                                   0\n",
              "CurrentJobTitleSelect                        2\n",
              "TitleFit                                   102\n",
              "CurrentEmployerType                         71\n",
              "MLToolNextYearSelect                       231\n",
              "MLMethodNextYearSelect                     277\n",
              "LanguageRecommendationSelect               195\n",
              "LearningPlatformUsefulnessBlogs           2998\n",
              "LearningPlatformUsefulnessKaggle          2361\n",
              "LearningPlatformUsefulnessCourses         2588\n",
              "LearningPlatformUsefulnessProjects        3030\n",
              "LearningPlatformUsefulnessSO              2533\n",
              "LearningPlatformUsefulnessTextbook        3327\n",
              "LearningPlatformUsefulnessYouTube         3116\n",
              "DataScienceIdentitySelect                 1545\n",
              "FormalEducation                              7\n",
              "MajorSelect                                519\n",
              "Tenure                                      14\n",
              "PastJobTitlesSelect                        205\n",
              "MLSkillsSelect                             273\n",
              "MLTechniquesSelect                         311\n",
              "EmployerIndustry                            12\n",
              "EmployerSize                               581\n",
              "WorkProductionFrequency                    626\n",
              "WorkAlgorithmsSelect                       426\n",
              "WorkToolsFrequencyPython                  1282\n",
              "WorkToolsFrequencyR                       2172\n",
              "WorkToolsFrequencySQL                     2529\n",
              "WorkMethodsFrequencyCross-Validation      2727\n",
              "WorkMethodsFrequencyDataVisualization     1909\n",
              "WorkMethodsFrequencyDecisionTrees         2875\n",
              "WorkMethodsFrequencyLogisticRegression    2403\n",
              "WorkMethodsFrequencyNeuralNetworks        3562\n",
              "WorkMethodsFrequencyPCA                   3483\n",
              "WorkMethodsFrequencyRandomForests         3027\n",
              "WorkMethodsFrequencyTimeSeriesAnalysis    3235\n",
              "WorkChallengeFrequencyPolitics            3437\n",
              "WorkChallengeFrequencyUnusedResults       4169\n",
              "WorkChallengeFrequencyDirtyData           2760\n",
              "WorkChallengeFrequencyExplaining          4279\n",
              "WorkChallengeFrequencyTalent              3163\n",
              "WorkChallengeFrequencyClarity             3805\n",
              "WorkChallengeFrequencyDataAccess          3809\n",
              "CompensationScore                         1156\n",
              "WorkDataVisualizations                      29\n",
              "WorkInternalVsExternalTools                116\n",
              "WorkMLTeamSeatSelect                       162\n",
              "RemoteWork                                 582\n",
              "JobSatisfaction                              0\n",
              "dtype: int64"
            ]
          },
          "metadata": {
            "tags": []
          },
          "execution_count": 20
        }
      ]
    },
    {
      "cell_type": "code",
      "metadata": {
        "colab": {
          "base_uri": "https://localhost:8080/"
        },
        "id": "Rnl77gi7KaPd",
        "outputId": "4c55a644-dde1-4687-863d-9bc565bc6b9b"
      },
      "source": [
        "df.isnull().mean() #percentages"
      ],
      "execution_count": 21,
      "outputs": [
        {
          "output_type": "execute_result",
          "data": {
            "text/plain": [
              "ID                                        0.000000\n",
              "GenderSelect                              0.001809\n",
              "Country                                   0.002894\n",
              "Age                                       0.012299\n",
              "EmploymentStatus                          0.000000\n",
              "CodeWriter                                0.000000\n",
              "CurrentJobTitleSelect                     0.000362\n",
              "TitleFit                                  0.018448\n",
              "CurrentEmployerType                       0.012841\n",
              "MLToolNextYearSelect                      0.041780\n",
              "MLMethodNextYearSelect                    0.050099\n",
              "LanguageRecommendationSelect              0.035269\n",
              "LearningPlatformUsefulnessBlogs           0.542232\n",
              "LearningPlatformUsefulnessKaggle          0.427021\n",
              "LearningPlatformUsefulnessCourses         0.468077\n",
              "LearningPlatformUsefulnessProjects        0.548020\n",
              "LearningPlatformUsefulnessSO              0.458130\n",
              "LearningPlatformUsefulnessTextbook        0.601736\n",
              "LearningPlatformUsefulnessYouTube         0.563574\n",
              "DataScienceIdentitySelect                 0.279436\n",
              "FormalEducation                           0.001266\n",
              "MajorSelect                               0.093869\n",
              "Tenure                                    0.002532\n",
              "PastJobTitlesSelect                       0.037077\n",
              "MLSkillsSelect                            0.049376\n",
              "MLTechniquesSelect                        0.056249\n",
              "EmployerIndustry                          0.002170\n",
              "EmployerSize                              0.105082\n",
              "WorkProductionFrequency                   0.113221\n",
              "WorkAlgorithmsSelect                      0.077048\n",
              "WorkToolsFrequencyPython                  0.231868\n",
              "WorkToolsFrequencyR                       0.392838\n",
              "WorkToolsFrequencySQL                     0.457406\n",
              "WorkMethodsFrequencyCross-Validation      0.493218\n",
              "WorkMethodsFrequencyDataVisualization     0.345270\n",
              "WorkMethodsFrequencyDecisionTrees         0.519986\n",
              "WorkMethodsFrequencyLogisticRegression    0.434617\n",
              "WorkMethodsFrequencyNeuralNetworks        0.644239\n",
              "WorkMethodsFrequencyPCA                   0.629951\n",
              "WorkMethodsFrequencyRandomForests         0.547477\n",
              "WorkMethodsFrequencyTimeSeriesAnalysis    0.585097\n",
              "WorkChallengeFrequencyPolitics            0.621631\n",
              "WorkChallengeFrequencyUnusedResults       0.754024\n",
              "WorkChallengeFrequencyDirtyData           0.499186\n",
              "WorkChallengeFrequencyExplaining          0.773919\n",
              "WorkChallengeFrequencyTalent              0.572075\n",
              "WorkChallengeFrequencyClarity             0.688190\n",
              "WorkChallengeFrequencyDataAccess          0.688913\n",
              "CompensationScore                         0.209079\n",
              "WorkDataVisualizations                    0.005245\n",
              "WorkInternalVsExternalTools               0.020980\n",
              "WorkMLTeamSeatSelect                      0.029300\n",
              "RemoteWork                                0.105263\n",
              "JobSatisfaction                           0.000000\n",
              "dtype: float64"
            ]
          },
          "metadata": {
            "tags": []
          },
          "execution_count": 21
        }
      ]
    },
    {
      "cell_type": "code",
      "metadata": {
        "colab": {
          "base_uri": "https://localhost:8080/"
        },
        "id": "6jE8eOu4HN2G",
        "outputId": "fa940b7c-c6b6-4fd3-c0df-306822448d87"
      },
      "source": [
        "#We have 5529 samples if more than 60% of samples are NaN values then we will not use that column\n",
        "\n",
        "df_dropped = df[df.columns[df.isnull().mean() < 0.6]]\n",
        "df_dropped.shape"
      ],
      "execution_count": 22,
      "outputs": [
        {
          "output_type": "execute_result",
          "data": {
            "text/plain": [
              "(5529, 46)"
            ]
          },
          "metadata": {
            "tags": []
          },
          "execution_count": 22
        }
      ]
    },
    {
      "cell_type": "markdown",
      "metadata": {
        "id": "W0jHLoe8LU1T"
      },
      "source": [
        "We have dropped 8 columns which has more than 60% of NaN values"
      ]
    },
    {
      "cell_type": "code",
      "metadata": {
        "colab": {
          "base_uri": "https://localhost:8080/"
        },
        "id": "fhccngjdMmMX",
        "outputId": "ebd72596-3112-499d-fb6b-4adb07b19db9"
      },
      "source": [
        "df_dropped.dtypes"
      ],
      "execution_count": 23,
      "outputs": [
        {
          "output_type": "execute_result",
          "data": {
            "text/plain": [
              "ID                                          int64\n",
              "GenderSelect                               object\n",
              "Country                                    object\n",
              "Age                                       float64\n",
              "EmploymentStatus                           object\n",
              "CodeWriter                                 object\n",
              "CurrentJobTitleSelect                      object\n",
              "TitleFit                                   object\n",
              "CurrentEmployerType                        object\n",
              "MLToolNextYearSelect                       object\n",
              "MLMethodNextYearSelect                     object\n",
              "LanguageRecommendationSelect               object\n",
              "LearningPlatformUsefulnessBlogs            object\n",
              "LearningPlatformUsefulnessKaggle           object\n",
              "LearningPlatformUsefulnessCourses          object\n",
              "LearningPlatformUsefulnessProjects         object\n",
              "LearningPlatformUsefulnessSO               object\n",
              "LearningPlatformUsefulnessYouTube          object\n",
              "DataScienceIdentitySelect                  object\n",
              "FormalEducation                            object\n",
              "MajorSelect                                object\n",
              "Tenure                                     object\n",
              "PastJobTitlesSelect                        object\n",
              "MLSkillsSelect                             object\n",
              "MLTechniquesSelect                         object\n",
              "EmployerIndustry                           object\n",
              "EmployerSize                               object\n",
              "WorkProductionFrequency                    object\n",
              "WorkAlgorithmsSelect                       object\n",
              "WorkToolsFrequencyPython                   object\n",
              "WorkToolsFrequencyR                        object\n",
              "WorkToolsFrequencySQL                      object\n",
              "WorkMethodsFrequencyCross-Validation       object\n",
              "WorkMethodsFrequencyDataVisualization      object\n",
              "WorkMethodsFrequencyDecisionTrees          object\n",
              "WorkMethodsFrequencyLogisticRegression     object\n",
              "WorkMethodsFrequencyRandomForests          object\n",
              "WorkMethodsFrequencyTimeSeriesAnalysis     object\n",
              "WorkChallengeFrequencyDirtyData            object\n",
              "WorkChallengeFrequencyTalent               object\n",
              "CompensationScore                         float64\n",
              "WorkDataVisualizations                     object\n",
              "WorkInternalVsExternalTools                object\n",
              "WorkMLTeamSeatSelect                       object\n",
              "RemoteWork                                 object\n",
              "JobSatisfaction                             int64\n",
              "dtype: object"
            ]
          },
          "metadata": {
            "tags": []
          },
          "execution_count": 23
        }
      ]
    },
    {
      "cell_type": "code",
      "metadata": {
        "id": "vVIfXMMRLcXV"
      },
      "source": [
        "# Now we will impute NaN values with mean and mode values\n",
        "# For numerical values with mean, for non-numerical values with mode\n",
        "\n",
        "df_dropped['Age'] = df_dropped['Age'].fillna(df_dropped['Age'].mean())\n",
        "df_dropped['CompensationScore'] = df_dropped['CompensationScore'].fillna(df_dropped['CompensationScore'].mean())\n"
      ],
      "execution_count": 24,
      "outputs": []
    },
    {
      "cell_type": "code",
      "metadata": {
        "id": "eKDbWqAmO12A"
      },
      "source": [
        "for col in df_dropped.columns:\n",
        "  df_dropped[col] = df_dropped[col].fillna(df_dropped[col].mode()[0])"
      ],
      "execution_count": 25,
      "outputs": []
    },
    {
      "cell_type": "code",
      "metadata": {
        "colab": {
          "base_uri": "https://localhost:8080/"
        },
        "id": "8r3nZBvLN3vu",
        "outputId": "9e94db5d-0dee-41e9-c146-d156d208c764"
      },
      "source": [
        "df_dropped.isna().sum()"
      ],
      "execution_count": 26,
      "outputs": [
        {
          "output_type": "execute_result",
          "data": {
            "text/plain": [
              "ID                                        0\n",
              "GenderSelect                              0\n",
              "Country                                   0\n",
              "Age                                       0\n",
              "EmploymentStatus                          0\n",
              "CodeWriter                                0\n",
              "CurrentJobTitleSelect                     0\n",
              "TitleFit                                  0\n",
              "CurrentEmployerType                       0\n",
              "MLToolNextYearSelect                      0\n",
              "MLMethodNextYearSelect                    0\n",
              "LanguageRecommendationSelect              0\n",
              "LearningPlatformUsefulnessBlogs           0\n",
              "LearningPlatformUsefulnessKaggle          0\n",
              "LearningPlatformUsefulnessCourses         0\n",
              "LearningPlatformUsefulnessProjects        0\n",
              "LearningPlatformUsefulnessSO              0\n",
              "LearningPlatformUsefulnessYouTube         0\n",
              "DataScienceIdentitySelect                 0\n",
              "FormalEducation                           0\n",
              "MajorSelect                               0\n",
              "Tenure                                    0\n",
              "PastJobTitlesSelect                       0\n",
              "MLSkillsSelect                            0\n",
              "MLTechniquesSelect                        0\n",
              "EmployerIndustry                          0\n",
              "EmployerSize                              0\n",
              "WorkProductionFrequency                   0\n",
              "WorkAlgorithmsSelect                      0\n",
              "WorkToolsFrequencyPython                  0\n",
              "WorkToolsFrequencyR                       0\n",
              "WorkToolsFrequencySQL                     0\n",
              "WorkMethodsFrequencyCross-Validation      0\n",
              "WorkMethodsFrequencyDataVisualization     0\n",
              "WorkMethodsFrequencyDecisionTrees         0\n",
              "WorkMethodsFrequencyLogisticRegression    0\n",
              "WorkMethodsFrequencyRandomForests         0\n",
              "WorkMethodsFrequencyTimeSeriesAnalysis    0\n",
              "WorkChallengeFrequencyDirtyData           0\n",
              "WorkChallengeFrequencyTalent              0\n",
              "CompensationScore                         0\n",
              "WorkDataVisualizations                    0\n",
              "WorkInternalVsExternalTools               0\n",
              "WorkMLTeamSeatSelect                      0\n",
              "RemoteWork                                0\n",
              "JobSatisfaction                           0\n",
              "dtype: int64"
            ]
          },
          "metadata": {
            "tags": []
          },
          "execution_count": 26
        }
      ]
    },
    {
      "cell_type": "code",
      "metadata": {
        "id": "DxUfPUm7QtTM",
        "colab": {
          "base_uri": "https://localhost:8080/",
          "height": 857
        },
        "outputId": "063c58ab-a435-4c8b-bc93-b20722aad406"
      },
      "source": [
        "df_dropped"
      ],
      "execution_count": 27,
      "outputs": [
        {
          "output_type": "execute_result",
          "data": {
            "text/html": [
              "<div>\n",
              "<style scoped>\n",
              "    .dataframe tbody tr th:only-of-type {\n",
              "        vertical-align: middle;\n",
              "    }\n",
              "\n",
              "    .dataframe tbody tr th {\n",
              "        vertical-align: top;\n",
              "    }\n",
              "\n",
              "    .dataframe thead th {\n",
              "        text-align: right;\n",
              "    }\n",
              "</style>\n",
              "<table border=\"1\" class=\"dataframe\">\n",
              "  <thead>\n",
              "    <tr style=\"text-align: right;\">\n",
              "      <th></th>\n",
              "      <th>ID</th>\n",
              "      <th>GenderSelect</th>\n",
              "      <th>Country</th>\n",
              "      <th>Age</th>\n",
              "      <th>EmploymentStatus</th>\n",
              "      <th>CodeWriter</th>\n",
              "      <th>CurrentJobTitleSelect</th>\n",
              "      <th>TitleFit</th>\n",
              "      <th>CurrentEmployerType</th>\n",
              "      <th>MLToolNextYearSelect</th>\n",
              "      <th>MLMethodNextYearSelect</th>\n",
              "      <th>LanguageRecommendationSelect</th>\n",
              "      <th>LearningPlatformUsefulnessBlogs</th>\n",
              "      <th>LearningPlatformUsefulnessKaggle</th>\n",
              "      <th>LearningPlatformUsefulnessCourses</th>\n",
              "      <th>LearningPlatformUsefulnessProjects</th>\n",
              "      <th>LearningPlatformUsefulnessSO</th>\n",
              "      <th>LearningPlatformUsefulnessYouTube</th>\n",
              "      <th>DataScienceIdentitySelect</th>\n",
              "      <th>FormalEducation</th>\n",
              "      <th>MajorSelect</th>\n",
              "      <th>Tenure</th>\n",
              "      <th>PastJobTitlesSelect</th>\n",
              "      <th>MLSkillsSelect</th>\n",
              "      <th>MLTechniquesSelect</th>\n",
              "      <th>EmployerIndustry</th>\n",
              "      <th>EmployerSize</th>\n",
              "      <th>WorkProductionFrequency</th>\n",
              "      <th>WorkAlgorithmsSelect</th>\n",
              "      <th>WorkToolsFrequencyPython</th>\n",
              "      <th>WorkToolsFrequencyR</th>\n",
              "      <th>WorkToolsFrequencySQL</th>\n",
              "      <th>WorkMethodsFrequencyCross-Validation</th>\n",
              "      <th>WorkMethodsFrequencyDataVisualization</th>\n",
              "      <th>WorkMethodsFrequencyDecisionTrees</th>\n",
              "      <th>WorkMethodsFrequencyLogisticRegression</th>\n",
              "      <th>WorkMethodsFrequencyRandomForests</th>\n",
              "      <th>WorkMethodsFrequencyTimeSeriesAnalysis</th>\n",
              "      <th>WorkChallengeFrequencyDirtyData</th>\n",
              "      <th>WorkChallengeFrequencyTalent</th>\n",
              "      <th>CompensationScore</th>\n",
              "      <th>WorkDataVisualizations</th>\n",
              "      <th>WorkInternalVsExternalTools</th>\n",
              "      <th>WorkMLTeamSeatSelect</th>\n",
              "      <th>RemoteWork</th>\n",
              "      <th>JobSatisfaction</th>\n",
              "    </tr>\n",
              "  </thead>\n",
              "  <tbody>\n",
              "    <tr>\n",
              "      <th>0</th>\n",
              "      <td>1</td>\n",
              "      <td>Male</td>\n",
              "      <td>Pakistan</td>\n",
              "      <td>28.0</td>\n",
              "      <td>Independent contractor, freelancer, or self-em...</td>\n",
              "      <td>Yes</td>\n",
              "      <td>Software Developer/Software Engineer</td>\n",
              "      <td>Fine</td>\n",
              "      <td>Self-employed</td>\n",
              "      <td>Python</td>\n",
              "      <td>Link Analysis</td>\n",
              "      <td>SAS</td>\n",
              "      <td>Very useful</td>\n",
              "      <td>Very useful</td>\n",
              "      <td>Very useful</td>\n",
              "      <td>Very useful</td>\n",
              "      <td>Very useful</td>\n",
              "      <td>Not Useful</td>\n",
              "      <td>Sort of (Explain more)</td>\n",
              "      <td>Bachelor's degree</td>\n",
              "      <td>Information technology, networking, or system ...</td>\n",
              "      <td>3 to 5 years</td>\n",
              "      <td>Programmer,Software Developer/Software Engineer</td>\n",
              "      <td>Survival Analysis</td>\n",
              "      <td>Hidden Markov Models HMMs,Logistic Regression,...</td>\n",
              "      <td>Technology</td>\n",
              "      <td>10,000 or more employees</td>\n",
              "      <td>Always</td>\n",
              "      <td>Random Forests</td>\n",
              "      <td>Often</td>\n",
              "      <td>Most of the time</td>\n",
              "      <td>Often</td>\n",
              "      <td>Most of the time</td>\n",
              "      <td>Most of the time</td>\n",
              "      <td>Often</td>\n",
              "      <td>Often</td>\n",
              "      <td>Often</td>\n",
              "      <td>Often</td>\n",
              "      <td>Often</td>\n",
              "      <td>Often</td>\n",
              "      <td>8.000000</td>\n",
              "      <td>51-75% of projects</td>\n",
              "      <td>Approximately half internal and half external</td>\n",
              "      <td>Standalone Team</td>\n",
              "      <td>Sometimes</td>\n",
              "      <td>4</td>\n",
              "    </tr>\n",
              "    <tr>\n",
              "      <th>1</th>\n",
              "      <td>2</td>\n",
              "      <td>Male</td>\n",
              "      <td>Mexico</td>\n",
              "      <td>26.0</td>\n",
              "      <td>Employed full-time</td>\n",
              "      <td>Yes</td>\n",
              "      <td>Computer Scientist</td>\n",
              "      <td>Poorly</td>\n",
              "      <td>Employed by a company that doesn't perform adv...</td>\n",
              "      <td>Python</td>\n",
              "      <td>Deep learning</td>\n",
              "      <td>Python</td>\n",
              "      <td>Somewhat useful</td>\n",
              "      <td>Very useful</td>\n",
              "      <td>Very useful</td>\n",
              "      <td>Very useful</td>\n",
              "      <td>Very useful</td>\n",
              "      <td>Somewhat useful</td>\n",
              "      <td>No</td>\n",
              "      <td>Master's degree</td>\n",
              "      <td>Computer Science</td>\n",
              "      <td>1 to 2 years</td>\n",
              "      <td>Computer Scientist,Programmer,Researcher</td>\n",
              "      <td>Natural Language Processing,Supervised Machine...</td>\n",
              "      <td>Bayesian Techniques,Support Vector Machines (S...</td>\n",
              "      <td>Government</td>\n",
              "      <td>1,000 to 4,999 employees</td>\n",
              "      <td>Rarely</td>\n",
              "      <td>Bayesian Techniques,SVMs</td>\n",
              "      <td>Sometimes</td>\n",
              "      <td>Often</td>\n",
              "      <td>Most of the time</td>\n",
              "      <td>Sometimes</td>\n",
              "      <td>Most of the time</td>\n",
              "      <td>Often</td>\n",
              "      <td>Often</td>\n",
              "      <td>Often</td>\n",
              "      <td>Rarely</td>\n",
              "      <td>Most of the time</td>\n",
              "      <td>Often</td>\n",
              "      <td>4.445003</td>\n",
              "      <td>100% of projects</td>\n",
              "      <td>More internal than external</td>\n",
              "      <td>Business Department</td>\n",
              "      <td>Sometimes</td>\n",
              "      <td>7</td>\n",
              "    </tr>\n",
              "    <tr>\n",
              "      <th>2</th>\n",
              "      <td>3</td>\n",
              "      <td>Female</td>\n",
              "      <td>United States</td>\n",
              "      <td>34.0</td>\n",
              "      <td>Employed full-time</td>\n",
              "      <td>Yes</td>\n",
              "      <td>Data Analyst</td>\n",
              "      <td>Fine</td>\n",
              "      <td>Employed by government</td>\n",
              "      <td>TensorFlow</td>\n",
              "      <td>Deep learning</td>\n",
              "      <td>Python</td>\n",
              "      <td>Very useful</td>\n",
              "      <td>Very useful</td>\n",
              "      <td>Somewhat useful</td>\n",
              "      <td>Very useful</td>\n",
              "      <td>Very useful</td>\n",
              "      <td>Somewhat useful</td>\n",
              "      <td>Sort of (Explain more)</td>\n",
              "      <td>Doctoral degree</td>\n",
              "      <td>Mathematics or statistics</td>\n",
              "      <td>6 to 10 years</td>\n",
              "      <td>Engineer,Operations Research Practitioner,Pred...</td>\n",
              "      <td>Supervised Machine Learning (Tabular Data)</td>\n",
              "      <td>Ensemble Methods,Evolutionary Approaches,Neura...</td>\n",
              "      <td>Government</td>\n",
              "      <td>1,000 to 4,999 employees</td>\n",
              "      <td>Rarely</td>\n",
              "      <td>Neural Networks,Regression/Logistic Regression</td>\n",
              "      <td>Sometimes</td>\n",
              "      <td>Often</td>\n",
              "      <td>Most of the time</td>\n",
              "      <td>Often</td>\n",
              "      <td>Often</td>\n",
              "      <td>Often</td>\n",
              "      <td>Often</td>\n",
              "      <td>Often</td>\n",
              "      <td>Sometimes</td>\n",
              "      <td>Most of the time</td>\n",
              "      <td>Sometimes</td>\n",
              "      <td>2.000000</td>\n",
              "      <td>10-25% of projects</td>\n",
              "      <td>More internal than external</td>\n",
              "      <td>Other</td>\n",
              "      <td>Rarely</td>\n",
              "      <td>6</td>\n",
              "    </tr>\n",
              "    <tr>\n",
              "      <th>3</th>\n",
              "      <td>4</td>\n",
              "      <td>Female</td>\n",
              "      <td>United States</td>\n",
              "      <td>33.0</td>\n",
              "      <td>Employed full-time</td>\n",
              "      <td>Yes</td>\n",
              "      <td>Scientist/Researcher</td>\n",
              "      <td>Fine</td>\n",
              "      <td>Employed by college or university</td>\n",
              "      <td>IBM Watson / Waton Analytics</td>\n",
              "      <td>Cluster Analysis</td>\n",
              "      <td>Python</td>\n",
              "      <td>Very useful</td>\n",
              "      <td>Very useful</td>\n",
              "      <td>Very useful</td>\n",
              "      <td>Very useful</td>\n",
              "      <td>Somewhat useful</td>\n",
              "      <td>Somewhat useful</td>\n",
              "      <td>No</td>\n",
              "      <td>Doctoral degree</td>\n",
              "      <td>Engineering (non-computer focused)</td>\n",
              "      <td>More than 10 years</td>\n",
              "      <td>Engineer,Researcher</td>\n",
              "      <td>Computer Vision</td>\n",
              "      <td>Bayesian Techniques,Support Vector Machines (S...</td>\n",
              "      <td>Academic</td>\n",
              "      <td>5,000 to 9,999 employees</td>\n",
              "      <td>Sometimes</td>\n",
              "      <td>Markov Logic Networks,Regression/Logistic Regr...</td>\n",
              "      <td>Sometimes</td>\n",
              "      <td>Most of the time</td>\n",
              "      <td>Most of the time</td>\n",
              "      <td>Most of the time</td>\n",
              "      <td>Often</td>\n",
              "      <td>Often</td>\n",
              "      <td>Sometimes</td>\n",
              "      <td>Often</td>\n",
              "      <td>Sometimes</td>\n",
              "      <td>Most of the time</td>\n",
              "      <td>Often</td>\n",
              "      <td>2.000000</td>\n",
              "      <td>76-99% of projects</td>\n",
              "      <td>Do not know</td>\n",
              "      <td>Other</td>\n",
              "      <td>Rarely</td>\n",
              "      <td>9</td>\n",
              "    </tr>\n",
              "    <tr>\n",
              "      <th>4</th>\n",
              "      <td>5</td>\n",
              "      <td>Female</td>\n",
              "      <td>United States</td>\n",
              "      <td>35.0</td>\n",
              "      <td>Employed full-time</td>\n",
              "      <td>Yes</td>\n",
              "      <td>Software Developer/Software Engineer</td>\n",
              "      <td>Fine</td>\n",
              "      <td>Employed by a company that performs advanced a...</td>\n",
              "      <td>Google Cloud Compute</td>\n",
              "      <td>Neural Nets</td>\n",
              "      <td>Python</td>\n",
              "      <td>Very useful</td>\n",
              "      <td>Very useful</td>\n",
              "      <td>Somewhat useful</td>\n",
              "      <td>Very useful</td>\n",
              "      <td>Very useful</td>\n",
              "      <td>Somewhat useful</td>\n",
              "      <td>No</td>\n",
              "      <td>Doctoral degree</td>\n",
              "      <td>Mathematics or statistics</td>\n",
              "      <td>More than 10 years</td>\n",
              "      <td>Researcher,Software Developer/Software Engineer</td>\n",
              "      <td>Computer Vision</td>\n",
              "      <td>Bayesian Techniques,Evolutionary Approaches,Lo...</td>\n",
              "      <td>Internet-based</td>\n",
              "      <td>10,000 or more employees</td>\n",
              "      <td>Sometimes</td>\n",
              "      <td>Bayesian Techniques,CNNs,Regression/Logistic R...</td>\n",
              "      <td>Most of the time</td>\n",
              "      <td>Most of the time</td>\n",
              "      <td>Most of the time</td>\n",
              "      <td>Most of the time</td>\n",
              "      <td>Most of the time</td>\n",
              "      <td>Often</td>\n",
              "      <td>Sometimes</td>\n",
              "      <td>Often</td>\n",
              "      <td>Often</td>\n",
              "      <td>Most of the time</td>\n",
              "      <td>Often</td>\n",
              "      <td>8.000000</td>\n",
              "      <td>100% of projects</td>\n",
              "      <td>Entirely internal</td>\n",
              "      <td>Other</td>\n",
              "      <td>Rarely</td>\n",
              "      <td>8</td>\n",
              "    </tr>\n",
              "    <tr>\n",
              "      <th>...</th>\n",
              "      <td>...</td>\n",
              "      <td>...</td>\n",
              "      <td>...</td>\n",
              "      <td>...</td>\n",
              "      <td>...</td>\n",
              "      <td>...</td>\n",
              "      <td>...</td>\n",
              "      <td>...</td>\n",
              "      <td>...</td>\n",
              "      <td>...</td>\n",
              "      <td>...</td>\n",
              "      <td>...</td>\n",
              "      <td>...</td>\n",
              "      <td>...</td>\n",
              "      <td>...</td>\n",
              "      <td>...</td>\n",
              "      <td>...</td>\n",
              "      <td>...</td>\n",
              "      <td>...</td>\n",
              "      <td>...</td>\n",
              "      <td>...</td>\n",
              "      <td>...</td>\n",
              "      <td>...</td>\n",
              "      <td>...</td>\n",
              "      <td>...</td>\n",
              "      <td>...</td>\n",
              "      <td>...</td>\n",
              "      <td>...</td>\n",
              "      <td>...</td>\n",
              "      <td>...</td>\n",
              "      <td>...</td>\n",
              "      <td>...</td>\n",
              "      <td>...</td>\n",
              "      <td>...</td>\n",
              "      <td>...</td>\n",
              "      <td>...</td>\n",
              "      <td>...</td>\n",
              "      <td>...</td>\n",
              "      <td>...</td>\n",
              "      <td>...</td>\n",
              "      <td>...</td>\n",
              "      <td>...</td>\n",
              "      <td>...</td>\n",
              "      <td>...</td>\n",
              "      <td>...</td>\n",
              "      <td>...</td>\n",
              "    </tr>\n",
              "    <tr>\n",
              "      <th>5524</th>\n",
              "      <td>5525</td>\n",
              "      <td>Male</td>\n",
              "      <td>Canada</td>\n",
              "      <td>48.0</td>\n",
              "      <td>Employed full-time</td>\n",
              "      <td>Yes</td>\n",
              "      <td>Data Scientist</td>\n",
              "      <td>Fine</td>\n",
              "      <td>Employed by professional services/consulting firm</td>\n",
              "      <td>DataRobot</td>\n",
              "      <td>Neural Nets</td>\n",
              "      <td>SAS</td>\n",
              "      <td>Very useful</td>\n",
              "      <td>Very useful</td>\n",
              "      <td>Very useful</td>\n",
              "      <td>Very useful</td>\n",
              "      <td>Very useful</td>\n",
              "      <td>Somewhat useful</td>\n",
              "      <td>Yes</td>\n",
              "      <td>Doctoral degree</td>\n",
              "      <td>Mathematics or statistics</td>\n",
              "      <td>More than 10 years</td>\n",
              "      <td>Data Analyst,Data Scientist,Predictive Modeler...</td>\n",
              "      <td>Outlier detection (e.g. Fraud detection),Super...</td>\n",
              "      <td>Decision Trees - Gradient Boosted Machines,Dec...</td>\n",
              "      <td>Mix of fields</td>\n",
              "      <td>20 to 99 employees</td>\n",
              "      <td>Always</td>\n",
              "      <td>Decision Trees,Markov Logic Networks,Regressio...</td>\n",
              "      <td>Most of the time</td>\n",
              "      <td>Most of the time</td>\n",
              "      <td>Most of the time</td>\n",
              "      <td>Most of the time</td>\n",
              "      <td>Most of the time</td>\n",
              "      <td>Most of the time</td>\n",
              "      <td>Most of the time</td>\n",
              "      <td>Most of the time</td>\n",
              "      <td>Most of the time</td>\n",
              "      <td>Most of the time</td>\n",
              "      <td>Often</td>\n",
              "      <td>1.000000</td>\n",
              "      <td>51-75% of projects</td>\n",
              "      <td>Entirely internal</td>\n",
              "      <td>Business Department</td>\n",
              "      <td>Sometimes</td>\n",
              "      <td>8</td>\n",
              "    </tr>\n",
              "    <tr>\n",
              "      <th>5525</th>\n",
              "      <td>5526</td>\n",
              "      <td>Male</td>\n",
              "      <td>Ireland</td>\n",
              "      <td>27.0</td>\n",
              "      <td>Employed full-time</td>\n",
              "      <td>Yes</td>\n",
              "      <td>Data Scientist</td>\n",
              "      <td>Fine</td>\n",
              "      <td>Employed by professional services/consulting firm</td>\n",
              "      <td>Spark / MLlib</td>\n",
              "      <td>I don't plan on learning a new ML/DS method</td>\n",
              "      <td>Python</td>\n",
              "      <td>Somewhat useful</td>\n",
              "      <td>Somewhat useful</td>\n",
              "      <td>Very useful</td>\n",
              "      <td>Very useful</td>\n",
              "      <td>Very useful</td>\n",
              "      <td>Somewhat useful</td>\n",
              "      <td>Yes</td>\n",
              "      <td>Master's degree</td>\n",
              "      <td>Mathematics or statistics</td>\n",
              "      <td>3 to 5 years</td>\n",
              "      <td>Data Scientist,Software Developer/Software Eng...</td>\n",
              "      <td>Natural Language Processing,Recommendation Eng...</td>\n",
              "      <td>Decision Trees - Random Forests</td>\n",
              "      <td>Internet-based</td>\n",
              "      <td>100 to 499 employees</td>\n",
              "      <td>Most of the time</td>\n",
              "      <td>Regression/Logistic Regression</td>\n",
              "      <td>Most of the time</td>\n",
              "      <td>Most of the time</td>\n",
              "      <td>Most of the time</td>\n",
              "      <td>Most of the time</td>\n",
              "      <td>Often</td>\n",
              "      <td>Often</td>\n",
              "      <td>Often</td>\n",
              "      <td>Often</td>\n",
              "      <td>Often</td>\n",
              "      <td>Most of the time</td>\n",
              "      <td>Often</td>\n",
              "      <td>1.000000</td>\n",
              "      <td>Less than 10% of projects</td>\n",
              "      <td>More internal than external</td>\n",
              "      <td>IT Department</td>\n",
              "      <td>Rarely</td>\n",
              "      <td>8</td>\n",
              "    </tr>\n",
              "    <tr>\n",
              "      <th>5526</th>\n",
              "      <td>5527</td>\n",
              "      <td>Female</td>\n",
              "      <td>United States</td>\n",
              "      <td>30.0</td>\n",
              "      <td>Employed part-time</td>\n",
              "      <td>Yes</td>\n",
              "      <td>Computer Scientist</td>\n",
              "      <td>Perfectly</td>\n",
              "      <td>Employed by non-profit or NGO</td>\n",
              "      <td>Python</td>\n",
              "      <td>Deep learning</td>\n",
              "      <td>Python</td>\n",
              "      <td>Somewhat useful</td>\n",
              "      <td>Very useful</td>\n",
              "      <td>Very useful</td>\n",
              "      <td>Very useful</td>\n",
              "      <td>Very useful</td>\n",
              "      <td>Very useful</td>\n",
              "      <td>Sort of (Explain more)</td>\n",
              "      <td>Doctoral degree</td>\n",
              "      <td>Electrical Engineering</td>\n",
              "      <td>3 to 5 years</td>\n",
              "      <td>Researcher</td>\n",
              "      <td>Computer Vision,Supervised Machine Learning (T...</td>\n",
              "      <td>Decision Trees - Gradient Boosted Machines,Dec...</td>\n",
              "      <td>Non-profit</td>\n",
              "      <td>100 to 499 employees</td>\n",
              "      <td>Most of the time</td>\n",
              "      <td>CNNs,Decision Trees,Ensemble Methods,Gradient ...</td>\n",
              "      <td>Often</td>\n",
              "      <td>Most of the time</td>\n",
              "      <td>Most of the time</td>\n",
              "      <td>Most of the time</td>\n",
              "      <td>Often</td>\n",
              "      <td>Most of the time</td>\n",
              "      <td>Sometimes</td>\n",
              "      <td>Often</td>\n",
              "      <td>Often</td>\n",
              "      <td>Most of the time</td>\n",
              "      <td>Sometimes</td>\n",
              "      <td>2.000000</td>\n",
              "      <td>10-25% of projects</td>\n",
              "      <td>Approximately half internal and half external</td>\n",
              "      <td>Standalone Team</td>\n",
              "      <td>Sometimes</td>\n",
              "      <td>8</td>\n",
              "    </tr>\n",
              "    <tr>\n",
              "      <th>5527</th>\n",
              "      <td>5528</td>\n",
              "      <td>Female</td>\n",
              "      <td>United States</td>\n",
              "      <td>29.0</td>\n",
              "      <td>Employed full-time</td>\n",
              "      <td>Yes</td>\n",
              "      <td>Operations Research Practitioner</td>\n",
              "      <td>Fine</td>\n",
              "      <td>Employed by professional services/consulting f...</td>\n",
              "      <td>Amazon Web services</td>\n",
              "      <td>Other</td>\n",
              "      <td>Python</td>\n",
              "      <td>Very useful</td>\n",
              "      <td>Very useful</td>\n",
              "      <td>Very useful</td>\n",
              "      <td>Very useful</td>\n",
              "      <td>Very useful</td>\n",
              "      <td>Somewhat useful</td>\n",
              "      <td>Yes</td>\n",
              "      <td>Master's degree</td>\n",
              "      <td>Mathematics or statistics</td>\n",
              "      <td>6 to 10 years</td>\n",
              "      <td>Business Analyst,Operations Research Practitioner</td>\n",
              "      <td>Supervised Machine Learning (Tabular Data)</td>\n",
              "      <td>Decision Trees - Random Forests,Logistic Regre...</td>\n",
              "      <td>Mix of fields</td>\n",
              "      <td>20 to 99 employees</td>\n",
              "      <td>Most of the time</td>\n",
              "      <td>Decision Trees,Regression/Logistic Regression</td>\n",
              "      <td>Sometimes</td>\n",
              "      <td>Most of the time</td>\n",
              "      <td>Often</td>\n",
              "      <td>Sometimes</td>\n",
              "      <td>Most of the time</td>\n",
              "      <td>Often</td>\n",
              "      <td>Sometimes</td>\n",
              "      <td>Sometimes</td>\n",
              "      <td>Sometimes</td>\n",
              "      <td>Sometimes</td>\n",
              "      <td>Often</td>\n",
              "      <td>6.000000</td>\n",
              "      <td>51-75% of projects</td>\n",
              "      <td>More internal than external</td>\n",
              "      <td>Standalone Team</td>\n",
              "      <td>Rarely</td>\n",
              "      <td>9</td>\n",
              "    </tr>\n",
              "    <tr>\n",
              "      <th>5528</th>\n",
              "      <td>5529</td>\n",
              "      <td>Male</td>\n",
              "      <td>South Africa</td>\n",
              "      <td>35.0</td>\n",
              "      <td>Employed full-time</td>\n",
              "      <td>Yes</td>\n",
              "      <td>Statistician</td>\n",
              "      <td>Fine</td>\n",
              "      <td>Employed by professional services/consulting firm</td>\n",
              "      <td>R</td>\n",
              "      <td>Factor Analysis</td>\n",
              "      <td>Python</td>\n",
              "      <td>Very useful</td>\n",
              "      <td>Very useful</td>\n",
              "      <td>Somewhat useful</td>\n",
              "      <td>Very useful</td>\n",
              "      <td>Very useful</td>\n",
              "      <td>Somewhat useful</td>\n",
              "      <td>Sort of (Explain more)</td>\n",
              "      <td>Master's degree</td>\n",
              "      <td>Mathematics or statistics</td>\n",
              "      <td>3 to 5 years</td>\n",
              "      <td>Predictive Modeler,Researcher,Statistician</td>\n",
              "      <td>Time Series</td>\n",
              "      <td>Bayesian Techniques,Logistic Regression</td>\n",
              "      <td>Financial</td>\n",
              "      <td>20 to 99 employees</td>\n",
              "      <td>Sometimes</td>\n",
              "      <td>Bayesian Techniques,Regression/Logistic Regres...</td>\n",
              "      <td>Most of the time</td>\n",
              "      <td>Sometimes</td>\n",
              "      <td>Most of the time</td>\n",
              "      <td>Most of the time</td>\n",
              "      <td>Most of the time</td>\n",
              "      <td>Often</td>\n",
              "      <td>Sometimes</td>\n",
              "      <td>Often</td>\n",
              "      <td>Sometimes</td>\n",
              "      <td>Often</td>\n",
              "      <td>Often</td>\n",
              "      <td>8.000000</td>\n",
              "      <td>Less than 10% of projects</td>\n",
              "      <td>More internal than external</td>\n",
              "      <td>Standalone Team</td>\n",
              "      <td>Rarely</td>\n",
              "      <td>8</td>\n",
              "    </tr>\n",
              "  </tbody>\n",
              "</table>\n",
              "<p>5529 rows × 46 columns</p>\n",
              "</div>"
            ],
            "text/plain": [
              "        ID GenderSelect  ... RemoteWork  JobSatisfaction\n",
              "0        1         Male  ...  Sometimes                4\n",
              "1        2         Male  ...  Sometimes                7\n",
              "2        3       Female  ...     Rarely                6\n",
              "3        4       Female  ...     Rarely                9\n",
              "4        5       Female  ...     Rarely                8\n",
              "...    ...          ...  ...        ...              ...\n",
              "5524  5525         Male  ...  Sometimes                8\n",
              "5525  5526         Male  ...     Rarely                8\n",
              "5526  5527       Female  ...  Sometimes                8\n",
              "5527  5528       Female  ...     Rarely                9\n",
              "5528  5529         Male  ...     Rarely                8\n",
              "\n",
              "[5529 rows x 46 columns]"
            ]
          },
          "metadata": {
            "tags": []
          },
          "execution_count": 27
        }
      ]
    },
    {
      "cell_type": "markdown",
      "metadata": {
        "id": "9u3l0ovWKnCE"
      },
      "source": [
        "## **Transforming Ordinal features**"
      ]
    },
    {
      "cell_type": "markdown",
      "metadata": {
        "id": "a9BmpsXET_LK"
      },
      "source": [
        "TitleFit"
      ]
    },
    {
      "cell_type": "code",
      "metadata": {
        "colab": {
          "base_uri": "https://localhost:8080/"
        },
        "id": "GKXV1D5sMeXR",
        "outputId": "c64fdba6-4979-466f-b0f9-af7fa63227fd"
      },
      "source": [
        "df_dropped['TitleFit'].value_counts()"
      ],
      "execution_count": 28,
      "outputs": [
        {
          "output_type": "execute_result",
          "data": {
            "text/plain": [
              "Fine         3655\n",
              "Perfectly    1125\n",
              "Poorly        749\n",
              "Name: TitleFit, dtype: int64"
            ]
          },
          "metadata": {
            "tags": []
          },
          "execution_count": 28
        }
      ]
    },
    {
      "cell_type": "code",
      "metadata": {
        "id": "UU8gqf30MrfS"
      },
      "source": [
        "TitleFit_map = {'Poorly':0,'Fine':1,'Perfectly':2}\n",
        "df_dropped['TitleFit'] = df_dropped['TitleFit'].replace(TitleFit_map)"
      ],
      "execution_count": 29,
      "outputs": []
    },
    {
      "cell_type": "markdown",
      "metadata": {
        "id": "yyJAKgPBUBtV"
      },
      "source": [
        "LearningPlatformUsefulnessBlogs"
      ]
    },
    {
      "cell_type": "code",
      "metadata": {
        "colab": {
          "base_uri": "https://localhost:8080/"
        },
        "id": "nxVsHTrbM_rt",
        "outputId": "c59f9e5b-98d4-4b10-c000-0b8c8747ee92"
      },
      "source": [
        "df_dropped['LearningPlatformUsefulnessBlogs'].value_counts()"
      ],
      "execution_count": 30,
      "outputs": [
        {
          "output_type": "execute_result",
          "data": {
            "text/plain": [
              "Very useful        4257\n",
              "Somewhat useful    1251\n",
              "Not Useful           21\n",
              "Name: LearningPlatformUsefulnessBlogs, dtype: int64"
            ]
          },
          "metadata": {
            "tags": []
          },
          "execution_count": 30
        }
      ]
    },
    {
      "cell_type": "code",
      "metadata": {
        "id": "ECmMO6GEUNHX"
      },
      "source": [
        "map = {'Not Useful':0,'Somewhat useful':1,'Very useful':2}\n",
        "\n",
        "df_dropped['LearningPlatformUsefulnessBlogs'] = df_dropped['LearningPlatformUsefulnessBlogs'].replace(map)"
      ],
      "execution_count": 31,
      "outputs": []
    },
    {
      "cell_type": "markdown",
      "metadata": {
        "id": "QFHDXaSQUmDW"
      },
      "source": [
        "LearningPlatformUsefulnessKaggle"
      ]
    },
    {
      "cell_type": "code",
      "metadata": {
        "colab": {
          "base_uri": "https://localhost:8080/"
        },
        "id": "sBQXM47wUYke",
        "outputId": "11d962a2-3194-406b-ddb4-3c5b6985a6ec"
      },
      "source": [
        "df_dropped['LearningPlatformUsefulnessKaggle'].value_counts()"
      ],
      "execution_count": 32,
      "outputs": [
        {
          "output_type": "execute_result",
          "data": {
            "text/plain": [
              "Very useful        4183\n",
              "Somewhat useful    1320\n",
              "Not Useful           26\n",
              "Name: LearningPlatformUsefulnessKaggle, dtype: int64"
            ]
          },
          "metadata": {
            "tags": []
          },
          "execution_count": 32
        }
      ]
    },
    {
      "cell_type": "code",
      "metadata": {
        "id": "51zDAVb5Ura9"
      },
      "source": [
        "df_dropped['LearningPlatformUsefulnessKaggle'] = df_dropped['LearningPlatformUsefulnessKaggle'].replace(map)"
      ],
      "execution_count": 33,
      "outputs": []
    },
    {
      "cell_type": "markdown",
      "metadata": {
        "id": "D2ZH1dEBVRck"
      },
      "source": [
        "LearningPlatformUsefulnessCourses"
      ]
    },
    {
      "cell_type": "code",
      "metadata": {
        "id": "nIOsbFXkVSYS"
      },
      "source": [
        "df_dropped['LearningPlatformUsefulnessCourses'] = df_dropped['LearningPlatformUsefulnessCourses'].replace(map)"
      ],
      "execution_count": 34,
      "outputs": []
    },
    {
      "cell_type": "markdown",
      "metadata": {
        "id": "H8_RZ_3YVf2S"
      },
      "source": [
        "LearningPlatformUsefulnessProjects"
      ]
    },
    {
      "cell_type": "code",
      "metadata": {
        "id": "LbLrlGZGVmDG"
      },
      "source": [
        "df_dropped['LearningPlatformUsefulnessProjects'] = df_dropped['LearningPlatformUsefulnessProjects'].replace(map)"
      ],
      "execution_count": 35,
      "outputs": []
    },
    {
      "cell_type": "markdown",
      "metadata": {
        "id": "b0VwaCmNVotf"
      },
      "source": [
        "LearningPlatformUsefulnessSO"
      ]
    },
    {
      "cell_type": "code",
      "metadata": {
        "id": "phu7IQB3Vrud"
      },
      "source": [
        "df_dropped['LearningPlatformUsefulnessSO'] = df_dropped['LearningPlatformUsefulnessSO'].replace(map)"
      ],
      "execution_count": 36,
      "outputs": []
    },
    {
      "cell_type": "markdown",
      "metadata": {
        "id": "4_O_bamRVuoI"
      },
      "source": [
        "LearningPlatformUsefulnessYouTube"
      ]
    },
    {
      "cell_type": "code",
      "metadata": {
        "id": "gh7kwD7RVzCZ"
      },
      "source": [
        "df_dropped['LearningPlatformUsefulnessYouTube'] = df_dropped['LearningPlatformUsefulnessYouTube'].replace(map)"
      ],
      "execution_count": 37,
      "outputs": []
    },
    {
      "cell_type": "markdown",
      "metadata": {
        "id": "-SdfYhYoWSLy"
      },
      "source": [
        "Tenure"
      ]
    },
    {
      "cell_type": "code",
      "metadata": {
        "colab": {
          "base_uri": "https://localhost:8080/"
        },
        "id": "x4IyqHwPWDj6",
        "outputId": "5748d34c-1d84-4cdf-f1bf-04687223fe24"
      },
      "source": [
        "df_dropped['Tenure'].value_counts()"
      ],
      "execution_count": 38,
      "outputs": [
        {
          "output_type": "execute_result",
          "data": {
            "text/plain": [
              "3 to 5 years                          1658\n",
              "1 to 2 years                          1244\n",
              "More than 10 years                    1163\n",
              "6 to 10 years                          982\n",
              "Less than a year                       462\n",
              "I don't write code to analyze data      20\n",
              "Name: Tenure, dtype: int64"
            ]
          },
          "metadata": {
            "tags": []
          },
          "execution_count": 38
        }
      ]
    },
    {
      "cell_type": "code",
      "metadata": {
        "id": "uIlk9cReWV1P"
      },
      "source": [
        "map = {\"I don't write code to analyze data\":0,\"Less than a year\":1,'1 to 2 years':2,'3 to 5 years':3,'6 to 10 years':4,'More than 10 years':5}"
      ],
      "execution_count": 39,
      "outputs": []
    },
    {
      "cell_type": "code",
      "metadata": {
        "id": "nOQUkxsVXiaY"
      },
      "source": [
        "df_dropped['Tenure'] = df_dropped['Tenure'].replace(map)"
      ],
      "execution_count": 40,
      "outputs": []
    },
    {
      "cell_type": "markdown",
      "metadata": {
        "id": "d9nxwymMXtKC"
      },
      "source": [
        "EmployerSize"
      ]
    },
    {
      "cell_type": "code",
      "metadata": {
        "colab": {
          "base_uri": "https://localhost:8080/"
        },
        "id": "EWShoERdX0Ix",
        "outputId": "27bb8d89-e7bf-4521-8de6-9f6497e2c0f3"
      },
      "source": [
        "df_dropped['EmployerSize'].value_counts()"
      ],
      "execution_count": 41,
      "outputs": [
        {
          "output_type": "execute_result",
          "data": {
            "text/plain": [
              "10,000 or more employees    1673\n",
              "100 to 499 employees         841\n",
              "20 to 99 employees           798\n",
              "1,000 to 4,999 employees     736\n",
              "500 to 999 employees         406\n",
              "10 to 19 employees           314\n",
              "5,000 to 9,999 employees     293\n",
              "Fewer than 10 employees      291\n",
              "I don't know                 140\n",
              "I prefer not to answer        37\n",
              "Name: EmployerSize, dtype: int64"
            ]
          },
          "metadata": {
            "tags": []
          },
          "execution_count": 41
        }
      ]
    },
    {
      "cell_type": "code",
      "metadata": {
        "id": "m2KrpN8gX4Vf"
      },
      "source": [
        "map = {\"Fewer than 10 employees\":0,\"10 to 19 employees\":1,'20 to 99 employees':2,'100 to 499 employees':3,'500 to 999 employees':4,'1,000 to 4,999 employees':5,'5,000 to 9,999 employees':6,'10,000 or more employees':7}"
      ],
      "execution_count": 42,
      "outputs": []
    },
    {
      "cell_type": "code",
      "metadata": {
        "id": "vYcCg8wtYil4"
      },
      "source": [
        "df_dropped['EmployerSize'] = df_dropped['EmployerSize'].replace(map)"
      ],
      "execution_count": 43,
      "outputs": []
    },
    {
      "cell_type": "code",
      "metadata": {
        "colab": {
          "base_uri": "https://localhost:8080/"
        },
        "id": "l58wNGvZYlVi",
        "outputId": "6f249281-00ad-47d2-f1bf-75705922a7e4"
      },
      "source": [
        "df_dropped['EmployerSize'].value_counts()"
      ],
      "execution_count": 44,
      "outputs": [
        {
          "output_type": "execute_result",
          "data": {
            "text/plain": [
              "7                         1673\n",
              "3                          841\n",
              "2                          798\n",
              "5                          736\n",
              "4                          406\n",
              "1                          314\n",
              "6                          293\n",
              "0                          291\n",
              "I don't know               140\n",
              "I prefer not to answer      37\n",
              "Name: EmployerSize, dtype: int64"
            ]
          },
          "metadata": {
            "tags": []
          },
          "execution_count": 44
        }
      ]
    },
    {
      "cell_type": "markdown",
      "metadata": {
        "id": "00E3S6bHcb_2"
      },
      "source": [
        "\"I don't know\" and \"I prefer not to answer\" values will be changed by the mean "
      ]
    },
    {
      "cell_type": "code",
      "metadata": {
        "colab": {
          "base_uri": "https://localhost:8080/"
        },
        "id": "3eK9aa9pZUJr",
        "outputId": "06b8ac43-d083-4a54-8d2f-449812cd12a3"
      },
      "source": [
        "sum = 0\n",
        "for i in range(8):\n",
        "  sum += df_dropped['EmployerSize'].value_counts()[i] * i \n",
        "\n",
        "avg = sum / 5352\n",
        "print(avg)"
      ],
      "execution_count": 45,
      "outputs": [
        {
          "output_type": "stream",
          "text": [
            "4.335949177877429\n"
          ],
          "name": "stdout"
        }
      ]
    },
    {
      "cell_type": "code",
      "metadata": {
        "colab": {
          "base_uri": "https://localhost:8080/"
        },
        "id": "bQOKrkg4cMLa",
        "outputId": "df54ec67-b3f5-4b3b-88db-2ce9bba3ab6c"
      },
      "source": [
        "map = {\"I don't know\":4.33,\"I prefer not to answer\":4.33}\n",
        "df_dropped['EmployerSize'] = df_dropped['EmployerSize'].replace(map)\n",
        "df_dropped['EmployerSize'].value_counts()"
      ],
      "execution_count": 46,
      "outputs": [
        {
          "output_type": "execute_result",
          "data": {
            "text/plain": [
              "7.00    1673\n",
              "3.00     841\n",
              "2.00     798\n",
              "5.00     736\n",
              "4.00     406\n",
              "1.00     314\n",
              "6.00     293\n",
              "0.00     291\n",
              "4.33     177\n",
              "Name: EmployerSize, dtype: int64"
            ]
          },
          "metadata": {
            "tags": []
          },
          "execution_count": 46
        }
      ]
    },
    {
      "cell_type": "markdown",
      "metadata": {
        "id": "Wo4lkuIbcv4v"
      },
      "source": [
        "WorkProductionFrequency"
      ]
    },
    {
      "cell_type": "code",
      "metadata": {
        "colab": {
          "base_uri": "https://localhost:8080/"
        },
        "id": "tYClLG7acqut",
        "outputId": "cf464492-5c6e-4239-8fcf-3aa9efff5104"
      },
      "source": [
        "df_dropped['WorkProductionFrequency'].value_counts()"
      ],
      "execution_count": 47,
      "outputs": [
        {
          "output_type": "execute_result",
          "data": {
            "text/plain": [
              "Sometimes           2353\n",
              "Most of the time    1353\n",
              "Rarely               848\n",
              "Never                482\n",
              "Always               361\n",
              "Don't know           132\n",
              "Name: WorkProductionFrequency, dtype: int64"
            ]
          },
          "metadata": {
            "tags": []
          },
          "execution_count": 47
        }
      ]
    },
    {
      "cell_type": "code",
      "metadata": {
        "colab": {
          "base_uri": "https://localhost:8080/"
        },
        "id": "acVMIKd4c12p",
        "outputId": "3cf4ecd0-a3c0-4bc2-c236-67cbbcc41744"
      },
      "source": [
        "map = {'Never':0,'Rarely':1,'Sometimes':2,'Most of the time':3,'Always':4}\n",
        "df_dropped['WorkProductionFrequency'] = df_dropped['WorkProductionFrequency'].replace(map)\n",
        "df_dropped['WorkProductionFrequency'].value_counts()"
      ],
      "execution_count": 48,
      "outputs": [
        {
          "output_type": "execute_result",
          "data": {
            "text/plain": [
              "2             2353\n",
              "3             1353\n",
              "1              848\n",
              "0              482\n",
              "4              361\n",
              "Don't know     132\n",
              "Name: WorkProductionFrequency, dtype: int64"
            ]
          },
          "metadata": {
            "tags": []
          },
          "execution_count": 48
        }
      ]
    },
    {
      "cell_type": "markdown",
      "metadata": {
        "id": "WdNyvQngdb3B"
      },
      "source": [
        "\"Don't know\" values will be changed by the mode "
      ]
    },
    {
      "cell_type": "code",
      "metadata": {
        "colab": {
          "base_uri": "https://localhost:8080/"
        },
        "id": "EkfL0rscde64",
        "outputId": "33f11d91-5c39-4836-879f-9d1df70a0bd1"
      },
      "source": [
        "map = {\"Don't know\":2}\n",
        "df_dropped['WorkProductionFrequency'] = df_dropped['WorkProductionFrequency'].replace(map)\n",
        "df_dropped['WorkProductionFrequency'].value_counts()"
      ],
      "execution_count": 49,
      "outputs": [
        {
          "output_type": "execute_result",
          "data": {
            "text/plain": [
              "2    2485\n",
              "3    1353\n",
              "1     848\n",
              "0     482\n",
              "4     361\n",
              "Name: WorkProductionFrequency, dtype: int64"
            ]
          },
          "metadata": {
            "tags": []
          },
          "execution_count": 49
        }
      ]
    },
    {
      "cell_type": "markdown",
      "metadata": {
        "id": "zSR0NFHOeLHa"
      },
      "source": [
        "WorkToolsFrequencyPython"
      ]
    },
    {
      "cell_type": "code",
      "metadata": {
        "colab": {
          "base_uri": "https://localhost:8080/"
        },
        "id": "CGW97_8meMZ1",
        "outputId": "556c0ca9-9cb3-4304-acb9-6313ab9b0836"
      },
      "source": [
        "df_dropped['WorkToolsFrequencyPython'].value_counts()"
      ],
      "execution_count": 50,
      "outputs": [
        {
          "output_type": "execute_result",
          "data": {
            "text/plain": [
              "Most of the time    3663\n",
              "Often                882\n",
              "Sometimes            744\n",
              "Rarely               240\n",
              "Name: WorkToolsFrequencyPython, dtype: int64"
            ]
          },
          "metadata": {
            "tags": []
          },
          "execution_count": 50
        }
      ]
    },
    {
      "cell_type": "code",
      "metadata": {
        "colab": {
          "base_uri": "https://localhost:8080/"
        },
        "id": "ZFBqhF1Eeozc",
        "outputId": "a04b2499-311b-49b6-c9e6-ad69bea4471d"
      },
      "source": [
        "map = {'Rarely':0,'Sometimes':1,'Often':2,'Most of the time':3}\n",
        "\n",
        "df_dropped['WorkToolsFrequencyPython'] = df_dropped['WorkToolsFrequencyPython'].replace(map)\n",
        "df_dropped['WorkToolsFrequencyPython'].value_counts()"
      ],
      "execution_count": 51,
      "outputs": [
        {
          "output_type": "execute_result",
          "data": {
            "text/plain": [
              "3    3663\n",
              "2     882\n",
              "1     744\n",
              "0     240\n",
              "Name: WorkToolsFrequencyPython, dtype: int64"
            ]
          },
          "metadata": {
            "tags": []
          },
          "execution_count": 51
        }
      ]
    },
    {
      "cell_type": "markdown",
      "metadata": {
        "id": "_9yXsHuHe9B-"
      },
      "source": [
        "WorkToolsFrequencyR"
      ]
    },
    {
      "cell_type": "code",
      "metadata": {
        "colab": {
          "base_uri": "https://localhost:8080/"
        },
        "id": "moUajolpfZsL",
        "outputId": "ed0c0eaf-7cf4-4ae7-e2e0-49a2c140e5a3"
      },
      "source": [
        "df_dropped['WorkToolsFrequencyR'] = df_dropped['WorkToolsFrequencyR'].replace(map)\n",
        "df_dropped['WorkToolsFrequencyR'].value_counts()"
      ],
      "execution_count": 52,
      "outputs": [
        {
          "output_type": "execute_result",
          "data": {
            "text/plain": [
              "3    3616\n",
              "1     824\n",
              "2     766\n",
              "0     323\n",
              "Name: WorkToolsFrequencyR, dtype: int64"
            ]
          },
          "metadata": {
            "tags": []
          },
          "execution_count": 52
        }
      ]
    },
    {
      "cell_type": "markdown",
      "metadata": {
        "id": "4wMwoBX2e_HQ"
      },
      "source": [
        "WorkToolsFrequencySQL"
      ]
    },
    {
      "cell_type": "code",
      "metadata": {
        "colab": {
          "base_uri": "https://localhost:8080/"
        },
        "id": "rhZIPvpafaNu",
        "outputId": "4ccd1d5a-dd32-4843-ea22-0028d0be0fad"
      },
      "source": [
        "df_dropped['WorkToolsFrequencySQL'] = df_dropped['WorkToolsFrequencySQL'].replace(map)\n",
        "df_dropped['WorkToolsFrequencySQL'].value_counts()"
      ],
      "execution_count": 53,
      "outputs": [
        {
          "output_type": "execute_result",
          "data": {
            "text/plain": [
              "3    4029\n",
              "2     840\n",
              "1     533\n",
              "0     127\n",
              "Name: WorkToolsFrequencySQL, dtype: int64"
            ]
          },
          "metadata": {
            "tags": []
          },
          "execution_count": 53
        }
      ]
    },
    {
      "cell_type": "markdown",
      "metadata": {
        "id": "6Y4NKHqRfBiN"
      },
      "source": [
        "WorkMethodsFrequencyCross-Validation"
      ]
    },
    {
      "cell_type": "code",
      "metadata": {
        "colab": {
          "base_uri": "https://localhost:8080/"
        },
        "id": "FaAORxWqfa0Z",
        "outputId": "08808f19-53aa-4f7f-fdd9-11d5d3dd7826"
      },
      "source": [
        "df_dropped['WorkMethodsFrequencyCross-Validation'] = df_dropped['WorkMethodsFrequencyCross-Validation'].replace(map)\n",
        "df_dropped['WorkMethodsFrequencyCross-Validation'].value_counts()"
      ],
      "execution_count": 54,
      "outputs": [
        {
          "output_type": "execute_result",
          "data": {
            "text/plain": [
              "3    3946\n",
              "2     984\n",
              "1     526\n",
              "0      73\n",
              "Name: WorkMethodsFrequencyCross-Validation, dtype: int64"
            ]
          },
          "metadata": {
            "tags": []
          },
          "execution_count": 54
        }
      ]
    },
    {
      "cell_type": "markdown",
      "metadata": {
        "id": "P2dzmiO1fEOq"
      },
      "source": [
        "WorkMethodsFrequencyDataVisualization"
      ]
    },
    {
      "cell_type": "code",
      "metadata": {
        "colab": {
          "base_uri": "https://localhost:8080/"
        },
        "id": "6_fOphQlfbU0",
        "outputId": "c46cba8a-7497-463d-ff04-1cdc9361239a"
      },
      "source": [
        "df_dropped['WorkMethodsFrequencyDataVisualization'] = df_dropped['WorkMethodsFrequencyDataVisualization'].replace(map)\n",
        "df_dropped['WorkMethodsFrequencyDataVisualization'].value_counts()"
      ],
      "execution_count": 55,
      "outputs": [
        {
          "output_type": "execute_result",
          "data": {
            "text/plain": [
              "3    4119\n",
              "2    1062\n",
              "1     311\n",
              "0      37\n",
              "Name: WorkMethodsFrequencyDataVisualization, dtype: int64"
            ]
          },
          "metadata": {
            "tags": []
          },
          "execution_count": 55
        }
      ]
    },
    {
      "cell_type": "markdown",
      "metadata": {
        "id": "-ZF-Kd_pfFEO"
      },
      "source": [
        "WorkMethodsFrequencyDecisionTrees"
      ]
    },
    {
      "cell_type": "code",
      "metadata": {
        "colab": {
          "base_uri": "https://localhost:8080/"
        },
        "id": "-EeLEkQDfb9M",
        "outputId": "6001616f-181e-4fa8-ca0a-eee7805f952f"
      },
      "source": [
        "df_dropped['WorkMethodsFrequencyDecisionTrees'] = df_dropped['WorkMethodsFrequencyDecisionTrees'].replace(map)\n",
        "df_dropped['WorkMethodsFrequencyDecisionTrees'].value_counts()"
      ],
      "execution_count": 56,
      "outputs": [
        {
          "output_type": "execute_result",
          "data": {
            "text/plain": [
              "2    3908\n",
              "1     894\n",
              "3     579\n",
              "0     148\n",
              "Name: WorkMethodsFrequencyDecisionTrees, dtype: int64"
            ]
          },
          "metadata": {
            "tags": []
          },
          "execution_count": 56
        }
      ]
    },
    {
      "cell_type": "markdown",
      "metadata": {
        "id": "Q_eWzqvMfMc6"
      },
      "source": [
        "WorkMethodsFrequencyLogisticRegression"
      ]
    },
    {
      "cell_type": "code",
      "metadata": {
        "colab": {
          "base_uri": "https://localhost:8080/"
        },
        "id": "0vL8rfC1fc1Q",
        "outputId": "b41b72cd-ed1a-4493-b428-49326ef0ef7e"
      },
      "source": [
        "df_dropped['WorkMethodsFrequencyLogisticRegression'] = df_dropped['WorkMethodsFrequencyLogisticRegression'].replace(map)\n",
        "df_dropped['WorkMethodsFrequencyLogisticRegression'].value_counts()"
      ],
      "execution_count": 57,
      "outputs": [
        {
          "output_type": "execute_result",
          "data": {
            "text/plain": [
              "2    3713\n",
              "1     914\n",
              "3     753\n",
              "0     149\n",
              "Name: WorkMethodsFrequencyLogisticRegression, dtype: int64"
            ]
          },
          "metadata": {
            "tags": []
          },
          "execution_count": 57
        }
      ]
    },
    {
      "cell_type": "markdown",
      "metadata": {
        "id": "XVWXueNCfLc7"
      },
      "source": [
        "WorkMethodsFrequencyRandomForests"
      ]
    },
    {
      "cell_type": "code",
      "metadata": {
        "colab": {
          "base_uri": "https://localhost:8080/"
        },
        "id": "aSxThsPOfdc9",
        "outputId": "d2c9647f-093c-4af4-cd4a-878da290c587"
      },
      "source": [
        "df_dropped['WorkMethodsFrequencyRandomForests'] = df_dropped['WorkMethodsFrequencyRandomForests'].replace(map)\n",
        "df_dropped['WorkMethodsFrequencyRandomForests'].value_counts()"
      ],
      "execution_count": 58,
      "outputs": [
        {
          "output_type": "execute_result",
          "data": {
            "text/plain": [
              "2    4023\n",
              "1     804\n",
              "3     573\n",
              "0     129\n",
              "Name: WorkMethodsFrequencyRandomForests, dtype: int64"
            ]
          },
          "metadata": {
            "tags": []
          },
          "execution_count": 58
        }
      ]
    },
    {
      "cell_type": "markdown",
      "metadata": {
        "id": "fwducOiefOA8"
      },
      "source": [
        "WorkMethodsFrequencyTimeSeriesAnalysis"
      ]
    },
    {
      "cell_type": "code",
      "metadata": {
        "colab": {
          "base_uri": "https://localhost:8080/"
        },
        "id": "wnGEsohsfeF1",
        "outputId": "5aed61d7-890a-4023-baf7-abb24889a0f7"
      },
      "source": [
        "df_dropped['WorkMethodsFrequencyTimeSeriesAnalysis'] = df_dropped['WorkMethodsFrequencyTimeSeriesAnalysis'].replace(map)\n",
        "df_dropped['WorkMethodsFrequencyTimeSeriesAnalysis'].value_counts()"
      ],
      "execution_count": 59,
      "outputs": [
        {
          "output_type": "execute_result",
          "data": {
            "text/plain": [
              "2    4072\n",
              "1     691\n",
              "3     657\n",
              "0     109\n",
              "Name: WorkMethodsFrequencyTimeSeriesAnalysis, dtype: int64"
            ]
          },
          "metadata": {
            "tags": []
          },
          "execution_count": 59
        }
      ]
    },
    {
      "cell_type": "markdown",
      "metadata": {
        "id": "atSM8SRffRJy"
      },
      "source": [
        "WorkChallengeFrequencyDirtyData"
      ]
    },
    {
      "cell_type": "code",
      "metadata": {
        "colab": {
          "base_uri": "https://localhost:8080/"
        },
        "id": "iUJboqQMfeuN",
        "outputId": "bd1cc236-1b4d-46bf-dd11-1c22c4464079"
      },
      "source": [
        "df_dropped['WorkChallengeFrequencyDirtyData'] = df_dropped['WorkChallengeFrequencyDirtyData'].replace(map)\n",
        "df_dropped['WorkChallengeFrequencyDirtyData'].value_counts()"
      ],
      "execution_count": 60,
      "outputs": [
        {
          "output_type": "execute_result",
          "data": {
            "text/plain": [
              "3    3942\n",
              "2    1119\n",
              "1     449\n",
              "0      19\n",
              "Name: WorkChallengeFrequencyDirtyData, dtype: int64"
            ]
          },
          "metadata": {
            "tags": []
          },
          "execution_count": 60
        }
      ]
    },
    {
      "cell_type": "markdown",
      "metadata": {
        "id": "fYmGyDqzfVQq"
      },
      "source": [
        "WorkChallengeFrequencyTalent"
      ]
    },
    {
      "cell_type": "code",
      "metadata": {
        "colab": {
          "base_uri": "https://localhost:8080/"
        },
        "id": "-gqLHcZ2ffPD",
        "outputId": "a922ec41-a3e4-4100-8dfb-e8e01f2c8df0"
      },
      "source": [
        "df_dropped['WorkChallengeFrequencyTalent'] = df_dropped['WorkChallengeFrequencyTalent'].replace(map)\n",
        "df_dropped['WorkChallengeFrequencyTalent'].value_counts()\n"
      ],
      "execution_count": 61,
      "outputs": [
        {
          "output_type": "execute_result",
          "data": {
            "text/plain": [
              "2    4112\n",
              "3     734\n",
              "1     631\n",
              "0      52\n",
              "Name: WorkChallengeFrequencyTalent, dtype: int64"
            ]
          },
          "metadata": {
            "tags": []
          },
          "execution_count": 61
        }
      ]
    },
    {
      "cell_type": "markdown",
      "metadata": {
        "id": "suWI9XRPgRlJ"
      },
      "source": [
        "WorkDataVisualizations"
      ]
    },
    {
      "cell_type": "code",
      "metadata": {
        "colab": {
          "base_uri": "https://localhost:8080/"
        },
        "id": "_M23DqZrgTpF",
        "outputId": "8385fc21-2e6c-4814-f199-a4845d16877b"
      },
      "source": [
        "df_dropped['WorkDataVisualizations'].value_counts()"
      ],
      "execution_count": 62,
      "outputs": [
        {
          "output_type": "execute_result",
          "data": {
            "text/plain": [
              "100% of projects             1051\n",
              "76-99% of projects           1013\n",
              "10-25% of projects            991\n",
              "51-75% of projects            931\n",
              "26-50% of projects            711\n",
              "Less than 10% of projects     702\n",
              "None                          130\n",
              "Name: WorkDataVisualizations, dtype: int64"
            ]
          },
          "metadata": {
            "tags": []
          },
          "execution_count": 62
        }
      ]
    },
    {
      "cell_type": "code",
      "metadata": {
        "colab": {
          "base_uri": "https://localhost:8080/"
        },
        "id": "CBzyAGyqgaG3",
        "outputId": "ab817e13-adb8-4151-9792-f1008466784c"
      },
      "source": [
        "map = {'None':0,'Less than 10% of projects':1,'10-25% of projects':2,'26-50% of projects':3,'51-75% of projects':4,'76-99% of projects':5,'100% of projects':6}\n",
        "\n",
        "df_dropped['WorkDataVisualizations'] = df_dropped['WorkDataVisualizations'].replace(map)\n",
        "df_dropped['WorkDataVisualizations'].value_counts()"
      ],
      "execution_count": 63,
      "outputs": [
        {
          "output_type": "execute_result",
          "data": {
            "text/plain": [
              "6    1051\n",
              "5    1013\n",
              "2     991\n",
              "4     931\n",
              "3     711\n",
              "1     702\n",
              "0     130\n",
              "Name: WorkDataVisualizations, dtype: int64"
            ]
          },
          "metadata": {
            "tags": []
          },
          "execution_count": 63
        }
      ]
    },
    {
      "cell_type": "markdown",
      "metadata": {
        "id": "uJXuPGOAg4U1"
      },
      "source": [
        "RemoteWork"
      ]
    },
    {
      "cell_type": "code",
      "metadata": {
        "colab": {
          "base_uri": "https://localhost:8080/"
        },
        "id": "5rF7TVlrg3kv",
        "outputId": "89352db1-a141-4e23-a512-e9ed22ca42b8"
      },
      "source": [
        "df_dropped['RemoteWork'].value_counts()"
      ],
      "execution_count": 64,
      "outputs": [
        {
          "output_type": "execute_result",
          "data": {
            "text/plain": [
              "Sometimes           2560\n",
              "Rarely              1425\n",
              "Never                684\n",
              "Most of the time     555\n",
              "Always               285\n",
              "Don't know            20\n",
              "Name: RemoteWork, dtype: int64"
            ]
          },
          "metadata": {
            "tags": []
          },
          "execution_count": 64
        }
      ]
    },
    {
      "cell_type": "code",
      "metadata": {
        "colab": {
          "base_uri": "https://localhost:8080/"
        },
        "id": "W9iHkfseg9Gq",
        "outputId": "8ea2956d-064d-4940-f865-470609be81ae"
      },
      "source": [
        "map = {'Never':0,'Rarely':1,'Sometimes':2,\"Don't know\":2,'Most of the time':3,'Always':4}\n",
        "\n",
        "df_dropped['RemoteWork'] = df_dropped['RemoteWork'].replace(map)\n",
        "df_dropped['RemoteWork'].value_counts()"
      ],
      "execution_count": 65,
      "outputs": [
        {
          "output_type": "execute_result",
          "data": {
            "text/plain": [
              "2    2580\n",
              "1    1425\n",
              "0     684\n",
              "3     555\n",
              "4     285\n",
              "Name: RemoteWork, dtype: int64"
            ]
          },
          "metadata": {
            "tags": []
          },
          "execution_count": 65
        }
      ]
    },
    {
      "cell_type": "markdown",
      "metadata": {
        "id": "hBwx5cRRhgmo"
      },
      "source": [
        "## **More Preprocess**"
      ]
    },
    {
      "cell_type": "markdown",
      "metadata": {
        "id": "t-08USqjh6WA"
      },
      "source": [
        "ID is useless, so drop it"
      ]
    },
    {
      "cell_type": "code",
      "metadata": {
        "id": "ujCEZKyXh1bm"
      },
      "source": [
        "df_dropped = df_dropped.drop(['ID'], axis = 1)"
      ],
      "execution_count": 66,
      "outputs": []
    },
    {
      "cell_type": "markdown",
      "metadata": {
        "id": "RHL85ecf3OXy"
      },
      "source": [
        "Everyone is codewriter"
      ]
    },
    {
      "cell_type": "code",
      "metadata": {
        "colab": {
          "base_uri": "https://localhost:8080/"
        },
        "id": "cNPneiDt3NH8",
        "outputId": "f74606c7-ec04-4800-fd12-3cf2e96fa1d8"
      },
      "source": [
        "df_dropped['CodeWriter'].value_counts()"
      ],
      "execution_count": 67,
      "outputs": [
        {
          "output_type": "execute_result",
          "data": {
            "text/plain": [
              "Yes    5529\n",
              "Name: CodeWriter, dtype: int64"
            ]
          },
          "metadata": {
            "tags": []
          },
          "execution_count": 67
        }
      ]
    },
    {
      "cell_type": "markdown",
      "metadata": {
        "id": "tqVW08bf3S2n"
      },
      "source": [
        "So we will drop codewriter column"
      ]
    },
    {
      "cell_type": "code",
      "metadata": {
        "id": "aw0jJghL3Xp4"
      },
      "source": [
        "df_dropped = df_dropped.drop(['CodeWriter'], axis = 1)"
      ],
      "execution_count": 68,
      "outputs": []
    },
    {
      "cell_type": "code",
      "metadata": {
        "colab": {
          "base_uri": "https://localhost:8080/",
          "height": 823
        },
        "id": "giBBf_qwieC1",
        "outputId": "5a1a0a72-0cb8-41c5-f7d9-2236ae15d7d9"
      },
      "source": [
        "df_dropped\n"
      ],
      "execution_count": 69,
      "outputs": [
        {
          "output_type": "execute_result",
          "data": {
            "text/html": [
              "<div>\n",
              "<style scoped>\n",
              "    .dataframe tbody tr th:only-of-type {\n",
              "        vertical-align: middle;\n",
              "    }\n",
              "\n",
              "    .dataframe tbody tr th {\n",
              "        vertical-align: top;\n",
              "    }\n",
              "\n",
              "    .dataframe thead th {\n",
              "        text-align: right;\n",
              "    }\n",
              "</style>\n",
              "<table border=\"1\" class=\"dataframe\">\n",
              "  <thead>\n",
              "    <tr style=\"text-align: right;\">\n",
              "      <th></th>\n",
              "      <th>GenderSelect</th>\n",
              "      <th>Country</th>\n",
              "      <th>Age</th>\n",
              "      <th>EmploymentStatus</th>\n",
              "      <th>CurrentJobTitleSelect</th>\n",
              "      <th>TitleFit</th>\n",
              "      <th>CurrentEmployerType</th>\n",
              "      <th>MLToolNextYearSelect</th>\n",
              "      <th>MLMethodNextYearSelect</th>\n",
              "      <th>LanguageRecommendationSelect</th>\n",
              "      <th>LearningPlatformUsefulnessBlogs</th>\n",
              "      <th>LearningPlatformUsefulnessKaggle</th>\n",
              "      <th>LearningPlatformUsefulnessCourses</th>\n",
              "      <th>LearningPlatformUsefulnessProjects</th>\n",
              "      <th>LearningPlatformUsefulnessSO</th>\n",
              "      <th>LearningPlatformUsefulnessYouTube</th>\n",
              "      <th>DataScienceIdentitySelect</th>\n",
              "      <th>FormalEducation</th>\n",
              "      <th>MajorSelect</th>\n",
              "      <th>Tenure</th>\n",
              "      <th>PastJobTitlesSelect</th>\n",
              "      <th>MLSkillsSelect</th>\n",
              "      <th>MLTechniquesSelect</th>\n",
              "      <th>EmployerIndustry</th>\n",
              "      <th>EmployerSize</th>\n",
              "      <th>WorkProductionFrequency</th>\n",
              "      <th>WorkAlgorithmsSelect</th>\n",
              "      <th>WorkToolsFrequencyPython</th>\n",
              "      <th>WorkToolsFrequencyR</th>\n",
              "      <th>WorkToolsFrequencySQL</th>\n",
              "      <th>WorkMethodsFrequencyCross-Validation</th>\n",
              "      <th>WorkMethodsFrequencyDataVisualization</th>\n",
              "      <th>WorkMethodsFrequencyDecisionTrees</th>\n",
              "      <th>WorkMethodsFrequencyLogisticRegression</th>\n",
              "      <th>WorkMethodsFrequencyRandomForests</th>\n",
              "      <th>WorkMethodsFrequencyTimeSeriesAnalysis</th>\n",
              "      <th>WorkChallengeFrequencyDirtyData</th>\n",
              "      <th>WorkChallengeFrequencyTalent</th>\n",
              "      <th>CompensationScore</th>\n",
              "      <th>WorkDataVisualizations</th>\n",
              "      <th>WorkInternalVsExternalTools</th>\n",
              "      <th>WorkMLTeamSeatSelect</th>\n",
              "      <th>RemoteWork</th>\n",
              "      <th>JobSatisfaction</th>\n",
              "    </tr>\n",
              "  </thead>\n",
              "  <tbody>\n",
              "    <tr>\n",
              "      <th>0</th>\n",
              "      <td>Male</td>\n",
              "      <td>Pakistan</td>\n",
              "      <td>28.0</td>\n",
              "      <td>Independent contractor, freelancer, or self-em...</td>\n",
              "      <td>Software Developer/Software Engineer</td>\n",
              "      <td>1</td>\n",
              "      <td>Self-employed</td>\n",
              "      <td>Python</td>\n",
              "      <td>Link Analysis</td>\n",
              "      <td>SAS</td>\n",
              "      <td>2</td>\n",
              "      <td>2</td>\n",
              "      <td>2</td>\n",
              "      <td>2</td>\n",
              "      <td>2</td>\n",
              "      <td>0</td>\n",
              "      <td>Sort of (Explain more)</td>\n",
              "      <td>Bachelor's degree</td>\n",
              "      <td>Information technology, networking, or system ...</td>\n",
              "      <td>3</td>\n",
              "      <td>Programmer,Software Developer/Software Engineer</td>\n",
              "      <td>Survival Analysis</td>\n",
              "      <td>Hidden Markov Models HMMs,Logistic Regression,...</td>\n",
              "      <td>Technology</td>\n",
              "      <td>7.0</td>\n",
              "      <td>4</td>\n",
              "      <td>Random Forests</td>\n",
              "      <td>2</td>\n",
              "      <td>3</td>\n",
              "      <td>2</td>\n",
              "      <td>3</td>\n",
              "      <td>3</td>\n",
              "      <td>2</td>\n",
              "      <td>2</td>\n",
              "      <td>2</td>\n",
              "      <td>2</td>\n",
              "      <td>2</td>\n",
              "      <td>2</td>\n",
              "      <td>8.000000</td>\n",
              "      <td>4</td>\n",
              "      <td>Approximately half internal and half external</td>\n",
              "      <td>Standalone Team</td>\n",
              "      <td>2</td>\n",
              "      <td>4</td>\n",
              "    </tr>\n",
              "    <tr>\n",
              "      <th>1</th>\n",
              "      <td>Male</td>\n",
              "      <td>Mexico</td>\n",
              "      <td>26.0</td>\n",
              "      <td>Employed full-time</td>\n",
              "      <td>Computer Scientist</td>\n",
              "      <td>0</td>\n",
              "      <td>Employed by a company that doesn't perform adv...</td>\n",
              "      <td>Python</td>\n",
              "      <td>Deep learning</td>\n",
              "      <td>Python</td>\n",
              "      <td>1</td>\n",
              "      <td>2</td>\n",
              "      <td>2</td>\n",
              "      <td>2</td>\n",
              "      <td>2</td>\n",
              "      <td>1</td>\n",
              "      <td>No</td>\n",
              "      <td>Master's degree</td>\n",
              "      <td>Computer Science</td>\n",
              "      <td>2</td>\n",
              "      <td>Computer Scientist,Programmer,Researcher</td>\n",
              "      <td>Natural Language Processing,Supervised Machine...</td>\n",
              "      <td>Bayesian Techniques,Support Vector Machines (S...</td>\n",
              "      <td>Government</td>\n",
              "      <td>5.0</td>\n",
              "      <td>1</td>\n",
              "      <td>Bayesian Techniques,SVMs</td>\n",
              "      <td>1</td>\n",
              "      <td>2</td>\n",
              "      <td>3</td>\n",
              "      <td>1</td>\n",
              "      <td>3</td>\n",
              "      <td>2</td>\n",
              "      <td>2</td>\n",
              "      <td>2</td>\n",
              "      <td>0</td>\n",
              "      <td>3</td>\n",
              "      <td>2</td>\n",
              "      <td>4.445003</td>\n",
              "      <td>6</td>\n",
              "      <td>More internal than external</td>\n",
              "      <td>Business Department</td>\n",
              "      <td>2</td>\n",
              "      <td>7</td>\n",
              "    </tr>\n",
              "    <tr>\n",
              "      <th>2</th>\n",
              "      <td>Female</td>\n",
              "      <td>United States</td>\n",
              "      <td>34.0</td>\n",
              "      <td>Employed full-time</td>\n",
              "      <td>Data Analyst</td>\n",
              "      <td>1</td>\n",
              "      <td>Employed by government</td>\n",
              "      <td>TensorFlow</td>\n",
              "      <td>Deep learning</td>\n",
              "      <td>Python</td>\n",
              "      <td>2</td>\n",
              "      <td>2</td>\n",
              "      <td>1</td>\n",
              "      <td>2</td>\n",
              "      <td>2</td>\n",
              "      <td>1</td>\n",
              "      <td>Sort of (Explain more)</td>\n",
              "      <td>Doctoral degree</td>\n",
              "      <td>Mathematics or statistics</td>\n",
              "      <td>4</td>\n",
              "      <td>Engineer,Operations Research Practitioner,Pred...</td>\n",
              "      <td>Supervised Machine Learning (Tabular Data)</td>\n",
              "      <td>Ensemble Methods,Evolutionary Approaches,Neura...</td>\n",
              "      <td>Government</td>\n",
              "      <td>5.0</td>\n",
              "      <td>1</td>\n",
              "      <td>Neural Networks,Regression/Logistic Regression</td>\n",
              "      <td>1</td>\n",
              "      <td>2</td>\n",
              "      <td>3</td>\n",
              "      <td>2</td>\n",
              "      <td>2</td>\n",
              "      <td>2</td>\n",
              "      <td>2</td>\n",
              "      <td>2</td>\n",
              "      <td>1</td>\n",
              "      <td>3</td>\n",
              "      <td>1</td>\n",
              "      <td>2.000000</td>\n",
              "      <td>2</td>\n",
              "      <td>More internal than external</td>\n",
              "      <td>Other</td>\n",
              "      <td>1</td>\n",
              "      <td>6</td>\n",
              "    </tr>\n",
              "    <tr>\n",
              "      <th>3</th>\n",
              "      <td>Female</td>\n",
              "      <td>United States</td>\n",
              "      <td>33.0</td>\n",
              "      <td>Employed full-time</td>\n",
              "      <td>Scientist/Researcher</td>\n",
              "      <td>1</td>\n",
              "      <td>Employed by college or university</td>\n",
              "      <td>IBM Watson / Waton Analytics</td>\n",
              "      <td>Cluster Analysis</td>\n",
              "      <td>Python</td>\n",
              "      <td>2</td>\n",
              "      <td>2</td>\n",
              "      <td>2</td>\n",
              "      <td>2</td>\n",
              "      <td>1</td>\n",
              "      <td>1</td>\n",
              "      <td>No</td>\n",
              "      <td>Doctoral degree</td>\n",
              "      <td>Engineering (non-computer focused)</td>\n",
              "      <td>5</td>\n",
              "      <td>Engineer,Researcher</td>\n",
              "      <td>Computer Vision</td>\n",
              "      <td>Bayesian Techniques,Support Vector Machines (S...</td>\n",
              "      <td>Academic</td>\n",
              "      <td>6.0</td>\n",
              "      <td>2</td>\n",
              "      <td>Markov Logic Networks,Regression/Logistic Regr...</td>\n",
              "      <td>1</td>\n",
              "      <td>3</td>\n",
              "      <td>3</td>\n",
              "      <td>3</td>\n",
              "      <td>2</td>\n",
              "      <td>2</td>\n",
              "      <td>1</td>\n",
              "      <td>2</td>\n",
              "      <td>1</td>\n",
              "      <td>3</td>\n",
              "      <td>2</td>\n",
              "      <td>2.000000</td>\n",
              "      <td>5</td>\n",
              "      <td>Do not know</td>\n",
              "      <td>Other</td>\n",
              "      <td>1</td>\n",
              "      <td>9</td>\n",
              "    </tr>\n",
              "    <tr>\n",
              "      <th>4</th>\n",
              "      <td>Female</td>\n",
              "      <td>United States</td>\n",
              "      <td>35.0</td>\n",
              "      <td>Employed full-time</td>\n",
              "      <td>Software Developer/Software Engineer</td>\n",
              "      <td>1</td>\n",
              "      <td>Employed by a company that performs advanced a...</td>\n",
              "      <td>Google Cloud Compute</td>\n",
              "      <td>Neural Nets</td>\n",
              "      <td>Python</td>\n",
              "      <td>2</td>\n",
              "      <td>2</td>\n",
              "      <td>1</td>\n",
              "      <td>2</td>\n",
              "      <td>2</td>\n",
              "      <td>1</td>\n",
              "      <td>No</td>\n",
              "      <td>Doctoral degree</td>\n",
              "      <td>Mathematics or statistics</td>\n",
              "      <td>5</td>\n",
              "      <td>Researcher,Software Developer/Software Engineer</td>\n",
              "      <td>Computer Vision</td>\n",
              "      <td>Bayesian Techniques,Evolutionary Approaches,Lo...</td>\n",
              "      <td>Internet-based</td>\n",
              "      <td>7.0</td>\n",
              "      <td>2</td>\n",
              "      <td>Bayesian Techniques,CNNs,Regression/Logistic R...</td>\n",
              "      <td>3</td>\n",
              "      <td>3</td>\n",
              "      <td>3</td>\n",
              "      <td>3</td>\n",
              "      <td>3</td>\n",
              "      <td>2</td>\n",
              "      <td>1</td>\n",
              "      <td>2</td>\n",
              "      <td>2</td>\n",
              "      <td>3</td>\n",
              "      <td>2</td>\n",
              "      <td>8.000000</td>\n",
              "      <td>6</td>\n",
              "      <td>Entirely internal</td>\n",
              "      <td>Other</td>\n",
              "      <td>1</td>\n",
              "      <td>8</td>\n",
              "    </tr>\n",
              "    <tr>\n",
              "      <th>...</th>\n",
              "      <td>...</td>\n",
              "      <td>...</td>\n",
              "      <td>...</td>\n",
              "      <td>...</td>\n",
              "      <td>...</td>\n",
              "      <td>...</td>\n",
              "      <td>...</td>\n",
              "      <td>...</td>\n",
              "      <td>...</td>\n",
              "      <td>...</td>\n",
              "      <td>...</td>\n",
              "      <td>...</td>\n",
              "      <td>...</td>\n",
              "      <td>...</td>\n",
              "      <td>...</td>\n",
              "      <td>...</td>\n",
              "      <td>...</td>\n",
              "      <td>...</td>\n",
              "      <td>...</td>\n",
              "      <td>...</td>\n",
              "      <td>...</td>\n",
              "      <td>...</td>\n",
              "      <td>...</td>\n",
              "      <td>...</td>\n",
              "      <td>...</td>\n",
              "      <td>...</td>\n",
              "      <td>...</td>\n",
              "      <td>...</td>\n",
              "      <td>...</td>\n",
              "      <td>...</td>\n",
              "      <td>...</td>\n",
              "      <td>...</td>\n",
              "      <td>...</td>\n",
              "      <td>...</td>\n",
              "      <td>...</td>\n",
              "      <td>...</td>\n",
              "      <td>...</td>\n",
              "      <td>...</td>\n",
              "      <td>...</td>\n",
              "      <td>...</td>\n",
              "      <td>...</td>\n",
              "      <td>...</td>\n",
              "      <td>...</td>\n",
              "      <td>...</td>\n",
              "    </tr>\n",
              "    <tr>\n",
              "      <th>5524</th>\n",
              "      <td>Male</td>\n",
              "      <td>Canada</td>\n",
              "      <td>48.0</td>\n",
              "      <td>Employed full-time</td>\n",
              "      <td>Data Scientist</td>\n",
              "      <td>1</td>\n",
              "      <td>Employed by professional services/consulting firm</td>\n",
              "      <td>DataRobot</td>\n",
              "      <td>Neural Nets</td>\n",
              "      <td>SAS</td>\n",
              "      <td>2</td>\n",
              "      <td>2</td>\n",
              "      <td>2</td>\n",
              "      <td>2</td>\n",
              "      <td>2</td>\n",
              "      <td>1</td>\n",
              "      <td>Yes</td>\n",
              "      <td>Doctoral degree</td>\n",
              "      <td>Mathematics or statistics</td>\n",
              "      <td>5</td>\n",
              "      <td>Data Analyst,Data Scientist,Predictive Modeler...</td>\n",
              "      <td>Outlier detection (e.g. Fraud detection),Super...</td>\n",
              "      <td>Decision Trees - Gradient Boosted Machines,Dec...</td>\n",
              "      <td>Mix of fields</td>\n",
              "      <td>2.0</td>\n",
              "      <td>4</td>\n",
              "      <td>Decision Trees,Markov Logic Networks,Regressio...</td>\n",
              "      <td>3</td>\n",
              "      <td>3</td>\n",
              "      <td>3</td>\n",
              "      <td>3</td>\n",
              "      <td>3</td>\n",
              "      <td>3</td>\n",
              "      <td>3</td>\n",
              "      <td>3</td>\n",
              "      <td>3</td>\n",
              "      <td>3</td>\n",
              "      <td>2</td>\n",
              "      <td>1.000000</td>\n",
              "      <td>4</td>\n",
              "      <td>Entirely internal</td>\n",
              "      <td>Business Department</td>\n",
              "      <td>2</td>\n",
              "      <td>8</td>\n",
              "    </tr>\n",
              "    <tr>\n",
              "      <th>5525</th>\n",
              "      <td>Male</td>\n",
              "      <td>Ireland</td>\n",
              "      <td>27.0</td>\n",
              "      <td>Employed full-time</td>\n",
              "      <td>Data Scientist</td>\n",
              "      <td>1</td>\n",
              "      <td>Employed by professional services/consulting firm</td>\n",
              "      <td>Spark / MLlib</td>\n",
              "      <td>I don't plan on learning a new ML/DS method</td>\n",
              "      <td>Python</td>\n",
              "      <td>1</td>\n",
              "      <td>1</td>\n",
              "      <td>2</td>\n",
              "      <td>2</td>\n",
              "      <td>2</td>\n",
              "      <td>1</td>\n",
              "      <td>Yes</td>\n",
              "      <td>Master's degree</td>\n",
              "      <td>Mathematics or statistics</td>\n",
              "      <td>3</td>\n",
              "      <td>Data Scientist,Software Developer/Software Eng...</td>\n",
              "      <td>Natural Language Processing,Recommendation Eng...</td>\n",
              "      <td>Decision Trees - Random Forests</td>\n",
              "      <td>Internet-based</td>\n",
              "      <td>3.0</td>\n",
              "      <td>3</td>\n",
              "      <td>Regression/Logistic Regression</td>\n",
              "      <td>3</td>\n",
              "      <td>3</td>\n",
              "      <td>3</td>\n",
              "      <td>3</td>\n",
              "      <td>2</td>\n",
              "      <td>2</td>\n",
              "      <td>2</td>\n",
              "      <td>2</td>\n",
              "      <td>2</td>\n",
              "      <td>3</td>\n",
              "      <td>2</td>\n",
              "      <td>1.000000</td>\n",
              "      <td>1</td>\n",
              "      <td>More internal than external</td>\n",
              "      <td>IT Department</td>\n",
              "      <td>1</td>\n",
              "      <td>8</td>\n",
              "    </tr>\n",
              "    <tr>\n",
              "      <th>5526</th>\n",
              "      <td>Female</td>\n",
              "      <td>United States</td>\n",
              "      <td>30.0</td>\n",
              "      <td>Employed part-time</td>\n",
              "      <td>Computer Scientist</td>\n",
              "      <td>2</td>\n",
              "      <td>Employed by non-profit or NGO</td>\n",
              "      <td>Python</td>\n",
              "      <td>Deep learning</td>\n",
              "      <td>Python</td>\n",
              "      <td>1</td>\n",
              "      <td>2</td>\n",
              "      <td>2</td>\n",
              "      <td>2</td>\n",
              "      <td>2</td>\n",
              "      <td>2</td>\n",
              "      <td>Sort of (Explain more)</td>\n",
              "      <td>Doctoral degree</td>\n",
              "      <td>Electrical Engineering</td>\n",
              "      <td>3</td>\n",
              "      <td>Researcher</td>\n",
              "      <td>Computer Vision,Supervised Machine Learning (T...</td>\n",
              "      <td>Decision Trees - Gradient Boosted Machines,Dec...</td>\n",
              "      <td>Non-profit</td>\n",
              "      <td>3.0</td>\n",
              "      <td>3</td>\n",
              "      <td>CNNs,Decision Trees,Ensemble Methods,Gradient ...</td>\n",
              "      <td>2</td>\n",
              "      <td>3</td>\n",
              "      <td>3</td>\n",
              "      <td>3</td>\n",
              "      <td>2</td>\n",
              "      <td>3</td>\n",
              "      <td>1</td>\n",
              "      <td>2</td>\n",
              "      <td>2</td>\n",
              "      <td>3</td>\n",
              "      <td>1</td>\n",
              "      <td>2.000000</td>\n",
              "      <td>2</td>\n",
              "      <td>Approximately half internal and half external</td>\n",
              "      <td>Standalone Team</td>\n",
              "      <td>2</td>\n",
              "      <td>8</td>\n",
              "    </tr>\n",
              "    <tr>\n",
              "      <th>5527</th>\n",
              "      <td>Female</td>\n",
              "      <td>United States</td>\n",
              "      <td>29.0</td>\n",
              "      <td>Employed full-time</td>\n",
              "      <td>Operations Research Practitioner</td>\n",
              "      <td>1</td>\n",
              "      <td>Employed by professional services/consulting f...</td>\n",
              "      <td>Amazon Web services</td>\n",
              "      <td>Other</td>\n",
              "      <td>Python</td>\n",
              "      <td>2</td>\n",
              "      <td>2</td>\n",
              "      <td>2</td>\n",
              "      <td>2</td>\n",
              "      <td>2</td>\n",
              "      <td>1</td>\n",
              "      <td>Yes</td>\n",
              "      <td>Master's degree</td>\n",
              "      <td>Mathematics or statistics</td>\n",
              "      <td>4</td>\n",
              "      <td>Business Analyst,Operations Research Practitioner</td>\n",
              "      <td>Supervised Machine Learning (Tabular Data)</td>\n",
              "      <td>Decision Trees - Random Forests,Logistic Regre...</td>\n",
              "      <td>Mix of fields</td>\n",
              "      <td>2.0</td>\n",
              "      <td>3</td>\n",
              "      <td>Decision Trees,Regression/Logistic Regression</td>\n",
              "      <td>1</td>\n",
              "      <td>3</td>\n",
              "      <td>2</td>\n",
              "      <td>1</td>\n",
              "      <td>3</td>\n",
              "      <td>2</td>\n",
              "      <td>1</td>\n",
              "      <td>1</td>\n",
              "      <td>1</td>\n",
              "      <td>1</td>\n",
              "      <td>2</td>\n",
              "      <td>6.000000</td>\n",
              "      <td>4</td>\n",
              "      <td>More internal than external</td>\n",
              "      <td>Standalone Team</td>\n",
              "      <td>1</td>\n",
              "      <td>9</td>\n",
              "    </tr>\n",
              "    <tr>\n",
              "      <th>5528</th>\n",
              "      <td>Male</td>\n",
              "      <td>South Africa</td>\n",
              "      <td>35.0</td>\n",
              "      <td>Employed full-time</td>\n",
              "      <td>Statistician</td>\n",
              "      <td>1</td>\n",
              "      <td>Employed by professional services/consulting firm</td>\n",
              "      <td>R</td>\n",
              "      <td>Factor Analysis</td>\n",
              "      <td>Python</td>\n",
              "      <td>2</td>\n",
              "      <td>2</td>\n",
              "      <td>1</td>\n",
              "      <td>2</td>\n",
              "      <td>2</td>\n",
              "      <td>1</td>\n",
              "      <td>Sort of (Explain more)</td>\n",
              "      <td>Master's degree</td>\n",
              "      <td>Mathematics or statistics</td>\n",
              "      <td>3</td>\n",
              "      <td>Predictive Modeler,Researcher,Statistician</td>\n",
              "      <td>Time Series</td>\n",
              "      <td>Bayesian Techniques,Logistic Regression</td>\n",
              "      <td>Financial</td>\n",
              "      <td>2.0</td>\n",
              "      <td>2</td>\n",
              "      <td>Bayesian Techniques,Regression/Logistic Regres...</td>\n",
              "      <td>3</td>\n",
              "      <td>1</td>\n",
              "      <td>3</td>\n",
              "      <td>3</td>\n",
              "      <td>3</td>\n",
              "      <td>2</td>\n",
              "      <td>1</td>\n",
              "      <td>2</td>\n",
              "      <td>1</td>\n",
              "      <td>2</td>\n",
              "      <td>2</td>\n",
              "      <td>8.000000</td>\n",
              "      <td>1</td>\n",
              "      <td>More internal than external</td>\n",
              "      <td>Standalone Team</td>\n",
              "      <td>1</td>\n",
              "      <td>8</td>\n",
              "    </tr>\n",
              "  </tbody>\n",
              "</table>\n",
              "<p>5529 rows × 44 columns</p>\n",
              "</div>"
            ],
            "text/plain": [
              "     GenderSelect        Country  ...  RemoteWork JobSatisfaction\n",
              "0            Male       Pakistan  ...           2               4\n",
              "1            Male         Mexico  ...           2               7\n",
              "2          Female  United States  ...           1               6\n",
              "3          Female  United States  ...           1               9\n",
              "4          Female  United States  ...           1               8\n",
              "...           ...            ...  ...         ...             ...\n",
              "5524         Male         Canada  ...           2               8\n",
              "5525         Male        Ireland  ...           1               8\n",
              "5526       Female  United States  ...           2               8\n",
              "5527       Female  United States  ...           1               9\n",
              "5528         Male   South Africa  ...           1               8\n",
              "\n",
              "[5529 rows x 44 columns]"
            ]
          },
          "metadata": {
            "tags": []
          },
          "execution_count": 69
        }
      ]
    },
    {
      "cell_type": "markdown",
      "metadata": {
        "id": "WxLAQPVXi1SL"
      },
      "source": [
        "# **Data Visualization**"
      ]
    },
    {
      "cell_type": "markdown",
      "metadata": {
        "id": "HyNZi0IW37g_"
      },
      "source": [
        "## **Barcharts**"
      ]
    },
    {
      "cell_type": "code",
      "metadata": {
        "colab": {
          "base_uri": "https://localhost:8080/",
          "height": 475
        },
        "id": "3FXE64zui5Cx",
        "outputId": "7c23b76f-ec22-4f7a-bfb5-858373d0e65a"
      },
      "source": [
        "import matplotlib.pyplot as plt\n",
        "\n",
        "df_plot = df.groupby(['Country'])['JobSatisfaction'].mean()\n",
        "\n",
        "df_plot = df_plot.sort_values(ascending=False)\n",
        "\n",
        "df_plot.plot(kind='bar',figsize=(20,5),colormap=\"Accent\")"
      ],
      "execution_count": 70,
      "outputs": [
        {
          "output_type": "execute_result",
          "data": {
            "text/plain": [
              "<matplotlib.axes._subplots.AxesSubplot at 0x7fec5e82b630>"
            ]
          },
          "metadata": {
            "tags": []
          },
          "execution_count": 70
        },
        {
          "output_type": "display_data",
          "data": {
            "image/png": "[encoded data removed]",
            "text/plain": [
              "<Figure size 1440x360 with 1 Axes>"
            ]
          },
          "metadata": {
            "tags": [],
            "needs_background": "light"
          }
        }
      ]
    },
    {
      "cell_type": "code",
      "metadata": {
        "colab": {
          "base_uri": "https://localhost:8080/",
          "height": 534
        },
        "id": "uY_Gf1DCkPsk",
        "outputId": "9ff5ec89-87c9-4c44-d425-9b475c31dd37"
      },
      "source": [
        "df_plot = df.groupby(['CurrentJobTitleSelect'])['JobSatisfaction'].mean()\n",
        "\n",
        "df_plot = df_plot.sort_values(ascending=False)\n",
        "\n",
        "df_plot.plot(kind='bar',figsize=(15,5),colormap=\"Set3_r\")"
      ],
      "execution_count": 71,
      "outputs": [
        {
          "output_type": "execute_result",
          "data": {
            "text/plain": [
              "<matplotlib.axes._subplots.AxesSubplot at 0x7fec56d2f2b0>"
            ]
          },
          "metadata": {
            "tags": []
          },
          "execution_count": 71
        },
        {
          "output_type": "display_data",
          "data": {
            "image/png": "[encoded data removed]",
            "text/plain": [
              "<Figure size 1080x360 with 1 Axes>"
            ]
          },
          "metadata": {
            "tags": [],
            "needs_background": "light"
          }
        }
      ]
    },
    {
      "cell_type": "code",
      "metadata": {
        "colab": {
          "base_uri": "https://localhost:8080/",
          "height": 393
        },
        "id": "7PirO05X4ULZ",
        "outputId": "e082280d-22e2-49b1-e343-bef91b5c5842"
      },
      "source": [
        "df_plot = df.groupby(['LanguageRecommendationSelect'])['JobSatisfaction'].mean()\n",
        "\n",
        "df_plot = df_plot.sort_values(ascending=False)\n",
        "\n",
        "df_plot.plot(kind='bar',figsize=(15,5),colormap=\"gist_rainbow\")"
      ],
      "execution_count": 72,
      "outputs": [
        {
          "output_type": "execute_result",
          "data": {
            "text/plain": [
              "<matplotlib.axes._subplots.AxesSubplot at 0x7fec56e07da0>"
            ]
          },
          "metadata": {
            "tags": []
          },
          "execution_count": 72
        },
        {
          "output_type": "display_data",
          "data": {
            "image/png": "[encoded data removed]",
            "text/plain": [
              "<Figure size 1080x360 with 1 Axes>"
            ]
          },
          "metadata": {
            "tags": [],
            "needs_background": "light"
          }
        }
      ]
    },
    {
      "cell_type": "code",
      "metadata": {
        "colab": {
          "base_uri": "https://localhost:8080/",
          "height": 505
        },
        "id": "bFSs0Pko4nBP",
        "outputId": "8a791096-922e-419c-f1d2-a5cd44eccf8c"
      },
      "source": [
        "df_plot = df.groupby(['EmployerIndustry'])['JobSatisfaction'].mean()\n",
        "\n",
        "df_plot = df_plot.sort_values(ascending=False)\n",
        "\n",
        "df_plot.plot(kind='bar',figsize=(15,5),colormap=\"Wistia_r\")"
      ],
      "execution_count": 73,
      "outputs": [
        {
          "output_type": "execute_result",
          "data": {
            "text/plain": [
              "<matplotlib.axes._subplots.AxesSubplot at 0x7fec56e78e10>"
            ]
          },
          "metadata": {
            "tags": []
          },
          "execution_count": 73
        },
        {
          "output_type": "display_data",
          "data": {
            "image/png": "[encoded data removed]",
            "text/plain": [
              "<Figure size 1080x360 with 1 Axes>"
            ]
          },
          "metadata": {
            "tags": [],
            "needs_background": "light"
          }
        }
      ]
    },
    {
      "cell_type": "code",
      "metadata": {
        "colab": {
          "base_uri": "https://localhost:8080/",
          "height": 422
        },
        "id": "45PY1wxeX_7G",
        "outputId": "94322488-817c-48a2-bf2f-c2f0a1604b26"
      },
      "source": [
        "import matplotlib.pyplot as plt\n",
        "\n",
        "df_plot = df.groupby(['RemoteWork'])['JobSatisfaction'].mean()\n",
        "\n",
        "df_plot = df_plot.sort_values(ascending=False)\n",
        "\n",
        "df_plot.plot(kind='bar',figsize=(10,5),colormap=\"magma\")"
      ],
      "execution_count": 74,
      "outputs": [
        {
          "output_type": "execute_result",
          "data": {
            "text/plain": [
              "<matplotlib.axes._subplots.AxesSubplot at 0x7fec56dde748>"
            ]
          },
          "metadata": {
            "tags": []
          },
          "execution_count": 74
        },
        {
          "output_type": "display_data",
          "data": {
            "image/png": "[encoded data removed]",
            "text/plain": [
              "<Figure size 720x360 with 1 Axes>"
            ]
          },
          "metadata": {
            "tags": [],
            "needs_background": "light"
          }
        }
      ]
    },
    {
      "cell_type": "code",
      "metadata": {
        "colab": {
          "base_uri": "https://localhost:8080/",
          "height": 823
        },
        "id": "KrJ_7GwHQRjM",
        "outputId": "d8fd6b7c-4307-42f9-9824-77ed190f656a"
      },
      "source": [
        "df_dropped"
      ],
      "execution_count": 76,
      "outputs": [
        {
          "output_type": "execute_result",
          "data": {
            "text/html": [
              "<div>\n",
              "<style scoped>\n",
              "    .dataframe tbody tr th:only-of-type {\n",
              "        vertical-align: middle;\n",
              "    }\n",
              "\n",
              "    .dataframe tbody tr th {\n",
              "        vertical-align: top;\n",
              "    }\n",
              "\n",
              "    .dataframe thead th {\n",
              "        text-align: right;\n",
              "    }\n",
              "</style>\n",
              "<table border=\"1\" class=\"dataframe\">\n",
              "  <thead>\n",
              "    <tr style=\"text-align: right;\">\n",
              "      <th></th>\n",
              "      <th>GenderSelect</th>\n",
              "      <th>Country</th>\n",
              "      <th>Age</th>\n",
              "      <th>EmploymentStatus</th>\n",
              "      <th>CurrentJobTitleSelect</th>\n",
              "      <th>TitleFit</th>\n",
              "      <th>CurrentEmployerType</th>\n",
              "      <th>MLToolNextYearSelect</th>\n",
              "      <th>MLMethodNextYearSelect</th>\n",
              "      <th>LanguageRecommendationSelect</th>\n",
              "      <th>LearningPlatformUsefulnessBlogs</th>\n",
              "      <th>LearningPlatformUsefulnessKaggle</th>\n",
              "      <th>LearningPlatformUsefulnessCourses</th>\n",
              "      <th>LearningPlatformUsefulnessProjects</th>\n",
              "      <th>LearningPlatformUsefulnessSO</th>\n",
              "      <th>LearningPlatformUsefulnessYouTube</th>\n",
              "      <th>DataScienceIdentitySelect</th>\n",
              "      <th>FormalEducation</th>\n",
              "      <th>MajorSelect</th>\n",
              "      <th>Tenure</th>\n",
              "      <th>PastJobTitlesSelect</th>\n",
              "      <th>MLSkillsSelect</th>\n",
              "      <th>MLTechniquesSelect</th>\n",
              "      <th>EmployerIndustry</th>\n",
              "      <th>EmployerSize</th>\n",
              "      <th>WorkProductionFrequency</th>\n",
              "      <th>WorkAlgorithmsSelect</th>\n",
              "      <th>WorkToolsFrequencyPython</th>\n",
              "      <th>WorkToolsFrequencyR</th>\n",
              "      <th>WorkToolsFrequencySQL</th>\n",
              "      <th>WorkMethodsFrequencyCross-Validation</th>\n",
              "      <th>WorkMethodsFrequencyDataVisualization</th>\n",
              "      <th>WorkMethodsFrequencyDecisionTrees</th>\n",
              "      <th>WorkMethodsFrequencyLogisticRegression</th>\n",
              "      <th>WorkMethodsFrequencyRandomForests</th>\n",
              "      <th>WorkMethodsFrequencyTimeSeriesAnalysis</th>\n",
              "      <th>WorkChallengeFrequencyDirtyData</th>\n",
              "      <th>WorkChallengeFrequencyTalent</th>\n",
              "      <th>CompensationScore</th>\n",
              "      <th>WorkDataVisualizations</th>\n",
              "      <th>WorkInternalVsExternalTools</th>\n",
              "      <th>WorkMLTeamSeatSelect</th>\n",
              "      <th>RemoteWork</th>\n",
              "      <th>JobSatisfaction</th>\n",
              "    </tr>\n",
              "  </thead>\n",
              "  <tbody>\n",
              "    <tr>\n",
              "      <th>0</th>\n",
              "      <td>Male</td>\n",
              "      <td>Pakistan</td>\n",
              "      <td>28.0</td>\n",
              "      <td>Independent contractor, freelancer, or self-em...</td>\n",
              "      <td>Software Developer/Software Engineer</td>\n",
              "      <td>1</td>\n",
              "      <td>Self-employed</td>\n",
              "      <td>Python</td>\n",
              "      <td>Link Analysis</td>\n",
              "      <td>SAS</td>\n",
              "      <td>2</td>\n",
              "      <td>2</td>\n",
              "      <td>2</td>\n",
              "      <td>2</td>\n",
              "      <td>2</td>\n",
              "      <td>0</td>\n",
              "      <td>Sort of (Explain more)</td>\n",
              "      <td>Bachelor's degree</td>\n",
              "      <td>Information technology, networking, or system ...</td>\n",
              "      <td>3</td>\n",
              "      <td>Programmer,Software Developer/Software Engineer</td>\n",
              "      <td>Survival Analysis</td>\n",
              "      <td>Hidden Markov Models HMMs,Logistic Regression,...</td>\n",
              "      <td>Technology</td>\n",
              "      <td>7.0</td>\n",
              "      <td>4</td>\n",
              "      <td>Random Forests</td>\n",
              "      <td>2</td>\n",
              "      <td>3</td>\n",
              "      <td>2</td>\n",
              "      <td>3</td>\n",
              "      <td>3</td>\n",
              "      <td>2</td>\n",
              "      <td>2</td>\n",
              "      <td>2</td>\n",
              "      <td>2</td>\n",
              "      <td>2</td>\n",
              "      <td>2</td>\n",
              "      <td>8.000000</td>\n",
              "      <td>4</td>\n",
              "      <td>Approximately half internal and half external</td>\n",
              "      <td>Standalone Team</td>\n",
              "      <td>2</td>\n",
              "      <td>4</td>\n",
              "    </tr>\n",
              "    <tr>\n",
              "      <th>1</th>\n",
              "      <td>Male</td>\n",
              "      <td>Mexico</td>\n",
              "      <td>26.0</td>\n",
              "      <td>Employed full-time</td>\n",
              "      <td>Computer Scientist</td>\n",
              "      <td>0</td>\n",
              "      <td>Employed by a company that doesn't perform adv...</td>\n",
              "      <td>Python</td>\n",
              "      <td>Deep learning</td>\n",
              "      <td>Python</td>\n",
              "      <td>1</td>\n",
              "      <td>2</td>\n",
              "      <td>2</td>\n",
              "      <td>2</td>\n",
              "      <td>2</td>\n",
              "      <td>1</td>\n",
              "      <td>No</td>\n",
              "      <td>Master's degree</td>\n",
              "      <td>Computer Science</td>\n",
              "      <td>2</td>\n",
              "      <td>Computer Scientist,Programmer,Researcher</td>\n",
              "      <td>Natural Language Processing,Supervised Machine...</td>\n",
              "      <td>Bayesian Techniques,Support Vector Machines (S...</td>\n",
              "      <td>Government</td>\n",
              "      <td>5.0</td>\n",
              "      <td>1</td>\n",
              "      <td>Bayesian Techniques,SVMs</td>\n",
              "      <td>1</td>\n",
              "      <td>2</td>\n",
              "      <td>3</td>\n",
              "      <td>1</td>\n",
              "      <td>3</td>\n",
              "      <td>2</td>\n",
              "      <td>2</td>\n",
              "      <td>2</td>\n",
              "      <td>0</td>\n",
              "      <td>3</td>\n",
              "      <td>2</td>\n",
              "      <td>4.445003</td>\n",
              "      <td>6</td>\n",
              "      <td>More internal than external</td>\n",
              "      <td>Business Department</td>\n",
              "      <td>2</td>\n",
              "      <td>7</td>\n",
              "    </tr>\n",
              "    <tr>\n",
              "      <th>2</th>\n",
              "      <td>Female</td>\n",
              "      <td>United States</td>\n",
              "      <td>34.0</td>\n",
              "      <td>Employed full-time</td>\n",
              "      <td>Data Analyst</td>\n",
              "      <td>1</td>\n",
              "      <td>Employed by government</td>\n",
              "      <td>TensorFlow</td>\n",
              "      <td>Deep learning</td>\n",
              "      <td>Python</td>\n",
              "      <td>2</td>\n",
              "      <td>2</td>\n",
              "      <td>1</td>\n",
              "      <td>2</td>\n",
              "      <td>2</td>\n",
              "      <td>1</td>\n",
              "      <td>Sort of (Explain more)</td>\n",
              "      <td>Doctoral degree</td>\n",
              "      <td>Mathematics or statistics</td>\n",
              "      <td>4</td>\n",
              "      <td>Engineer,Operations Research Practitioner,Pred...</td>\n",
              "      <td>Supervised Machine Learning (Tabular Data)</td>\n",
              "      <td>Ensemble Methods,Evolutionary Approaches,Neura...</td>\n",
              "      <td>Government</td>\n",
              "      <td>5.0</td>\n",
              "      <td>1</td>\n",
              "      <td>Neural Networks,Regression/Logistic Regression</td>\n",
              "      <td>1</td>\n",
              "      <td>2</td>\n",
              "      <td>3</td>\n",
              "      <td>2</td>\n",
              "      <td>2</td>\n",
              "      <td>2</td>\n",
              "      <td>2</td>\n",
              "      <td>2</td>\n",
              "      <td>1</td>\n",
              "      <td>3</td>\n",
              "      <td>1</td>\n",
              "      <td>2.000000</td>\n",
              "      <td>2</td>\n",
              "      <td>More internal than external</td>\n",
              "      <td>Other</td>\n",
              "      <td>1</td>\n",
              "      <td>6</td>\n",
              "    </tr>\n",
              "    <tr>\n",
              "      <th>3</th>\n",
              "      <td>Female</td>\n",
              "      <td>United States</td>\n",
              "      <td>33.0</td>\n",
              "      <td>Employed full-time</td>\n",
              "      <td>Scientist/Researcher</td>\n",
              "      <td>1</td>\n",
              "      <td>Employed by college or university</td>\n",
              "      <td>IBM Watson / Waton Analytics</td>\n",
              "      <td>Cluster Analysis</td>\n",
              "      <td>Python</td>\n",
              "      <td>2</td>\n",
              "      <td>2</td>\n",
              "      <td>2</td>\n",
              "      <td>2</td>\n",
              "      <td>1</td>\n",
              "      <td>1</td>\n",
              "      <td>No</td>\n",
              "      <td>Doctoral degree</td>\n",
              "      <td>Engineering (non-computer focused)</td>\n",
              "      <td>5</td>\n",
              "      <td>Engineer,Researcher</td>\n",
              "      <td>Computer Vision</td>\n",
              "      <td>Bayesian Techniques,Support Vector Machines (S...</td>\n",
              "      <td>Academic</td>\n",
              "      <td>6.0</td>\n",
              "      <td>2</td>\n",
              "      <td>Markov Logic Networks,Regression/Logistic Regr...</td>\n",
              "      <td>1</td>\n",
              "      <td>3</td>\n",
              "      <td>3</td>\n",
              "      <td>3</td>\n",
              "      <td>2</td>\n",
              "      <td>2</td>\n",
              "      <td>1</td>\n",
              "      <td>2</td>\n",
              "      <td>1</td>\n",
              "      <td>3</td>\n",
              "      <td>2</td>\n",
              "      <td>2.000000</td>\n",
              "      <td>5</td>\n",
              "      <td>Do not know</td>\n",
              "      <td>Other</td>\n",
              "      <td>1</td>\n",
              "      <td>9</td>\n",
              "    </tr>\n",
              "    <tr>\n",
              "      <th>4</th>\n",
              "      <td>Female</td>\n",
              "      <td>United States</td>\n",
              "      <td>35.0</td>\n",
              "      <td>Employed full-time</td>\n",
              "      <td>Software Developer/Software Engineer</td>\n",
              "      <td>1</td>\n",
              "      <td>Employed by a company that performs advanced a...</td>\n",
              "      <td>Google Cloud Compute</td>\n",
              "      <td>Neural Nets</td>\n",
              "      <td>Python</td>\n",
              "      <td>2</td>\n",
              "      <td>2</td>\n",
              "      <td>1</td>\n",
              "      <td>2</td>\n",
              "      <td>2</td>\n",
              "      <td>1</td>\n",
              "      <td>No</td>\n",
              "      <td>Doctoral degree</td>\n",
              "      <td>Mathematics or statistics</td>\n",
              "      <td>5</td>\n",
              "      <td>Researcher,Software Developer/Software Engineer</td>\n",
              "      <td>Computer Vision</td>\n",
              "      <td>Bayesian Techniques,Evolutionary Approaches,Lo...</td>\n",
              "      <td>Internet-based</td>\n",
              "      <td>7.0</td>\n",
              "      <td>2</td>\n",
              "      <td>Bayesian Techniques,CNNs,Regression/Logistic R...</td>\n",
              "      <td>3</td>\n",
              "      <td>3</td>\n",
              "      <td>3</td>\n",
              "      <td>3</td>\n",
              "      <td>3</td>\n",
              "      <td>2</td>\n",
              "      <td>1</td>\n",
              "      <td>2</td>\n",
              "      <td>2</td>\n",
              "      <td>3</td>\n",
              "      <td>2</td>\n",
              "      <td>8.000000</td>\n",
              "      <td>6</td>\n",
              "      <td>Entirely internal</td>\n",
              "      <td>Other</td>\n",
              "      <td>1</td>\n",
              "      <td>8</td>\n",
              "    </tr>\n",
              "    <tr>\n",
              "      <th>...</th>\n",
              "      <td>...</td>\n",
              "      <td>...</td>\n",
              "      <td>...</td>\n",
              "      <td>...</td>\n",
              "      <td>...</td>\n",
              "      <td>...</td>\n",
              "      <td>...</td>\n",
              "      <td>...</td>\n",
              "      <td>...</td>\n",
              "      <td>...</td>\n",
              "      <td>...</td>\n",
              "      <td>...</td>\n",
              "      <td>...</td>\n",
              "      <td>...</td>\n",
              "      <td>...</td>\n",
              "      <td>...</td>\n",
              "      <td>...</td>\n",
              "      <td>...</td>\n",
              "      <td>...</td>\n",
              "      <td>...</td>\n",
              "      <td>...</td>\n",
              "      <td>...</td>\n",
              "      <td>...</td>\n",
              "      <td>...</td>\n",
              "      <td>...</td>\n",
              "      <td>...</td>\n",
              "      <td>...</td>\n",
              "      <td>...</td>\n",
              "      <td>...</td>\n",
              "      <td>...</td>\n",
              "      <td>...</td>\n",
              "      <td>...</td>\n",
              "      <td>...</td>\n",
              "      <td>...</td>\n",
              "      <td>...</td>\n",
              "      <td>...</td>\n",
              "      <td>...</td>\n",
              "      <td>...</td>\n",
              "      <td>...</td>\n",
              "      <td>...</td>\n",
              "      <td>...</td>\n",
              "      <td>...</td>\n",
              "      <td>...</td>\n",
              "      <td>...</td>\n",
              "    </tr>\n",
              "    <tr>\n",
              "      <th>5524</th>\n",
              "      <td>Male</td>\n",
              "      <td>Canada</td>\n",
              "      <td>48.0</td>\n",
              "      <td>Employed full-time</td>\n",
              "      <td>Data Scientist</td>\n",
              "      <td>1</td>\n",
              "      <td>Employed by professional services/consulting firm</td>\n",
              "      <td>DataRobot</td>\n",
              "      <td>Neural Nets</td>\n",
              "      <td>SAS</td>\n",
              "      <td>2</td>\n",
              "      <td>2</td>\n",
              "      <td>2</td>\n",
              "      <td>2</td>\n",
              "      <td>2</td>\n",
              "      <td>1</td>\n",
              "      <td>Yes</td>\n",
              "      <td>Doctoral degree</td>\n",
              "      <td>Mathematics or statistics</td>\n",
              "      <td>5</td>\n",
              "      <td>Data Analyst,Data Scientist,Predictive Modeler...</td>\n",
              "      <td>Outlier detection (e.g. Fraud detection),Super...</td>\n",
              "      <td>Decision Trees - Gradient Boosted Machines,Dec...</td>\n",
              "      <td>Mix of fields</td>\n",
              "      <td>2.0</td>\n",
              "      <td>4</td>\n",
              "      <td>Decision Trees,Markov Logic Networks,Regressio...</td>\n",
              "      <td>3</td>\n",
              "      <td>3</td>\n",
              "      <td>3</td>\n",
              "      <td>3</td>\n",
              "      <td>3</td>\n",
              "      <td>3</td>\n",
              "      <td>3</td>\n",
              "      <td>3</td>\n",
              "      <td>3</td>\n",
              "      <td>3</td>\n",
              "      <td>2</td>\n",
              "      <td>1.000000</td>\n",
              "      <td>4</td>\n",
              "      <td>Entirely internal</td>\n",
              "      <td>Business Department</td>\n",
              "      <td>2</td>\n",
              "      <td>8</td>\n",
              "    </tr>\n",
              "    <tr>\n",
              "      <th>5525</th>\n",
              "      <td>Male</td>\n",
              "      <td>Ireland</td>\n",
              "      <td>27.0</td>\n",
              "      <td>Employed full-time</td>\n",
              "      <td>Data Scientist</td>\n",
              "      <td>1</td>\n",
              "      <td>Employed by professional services/consulting firm</td>\n",
              "      <td>Spark / MLlib</td>\n",
              "      <td>I don't plan on learning a new ML/DS method</td>\n",
              "      <td>Python</td>\n",
              "      <td>1</td>\n",
              "      <td>1</td>\n",
              "      <td>2</td>\n",
              "      <td>2</td>\n",
              "      <td>2</td>\n",
              "      <td>1</td>\n",
              "      <td>Yes</td>\n",
              "      <td>Master's degree</td>\n",
              "      <td>Mathematics or statistics</td>\n",
              "      <td>3</td>\n",
              "      <td>Data Scientist,Software Developer/Software Eng...</td>\n",
              "      <td>Natural Language Processing,Recommendation Eng...</td>\n",
              "      <td>Decision Trees - Random Forests</td>\n",
              "      <td>Internet-based</td>\n",
              "      <td>3.0</td>\n",
              "      <td>3</td>\n",
              "      <td>Regression/Logistic Regression</td>\n",
              "      <td>3</td>\n",
              "      <td>3</td>\n",
              "      <td>3</td>\n",
              "      <td>3</td>\n",
              "      <td>2</td>\n",
              "      <td>2</td>\n",
              "      <td>2</td>\n",
              "      <td>2</td>\n",
              "      <td>2</td>\n",
              "      <td>3</td>\n",
              "      <td>2</td>\n",
              "      <td>1.000000</td>\n",
              "      <td>1</td>\n",
              "      <td>More internal than external</td>\n",
              "      <td>IT Department</td>\n",
              "      <td>1</td>\n",
              "      <td>8</td>\n",
              "    </tr>\n",
              "    <tr>\n",
              "      <th>5526</th>\n",
              "      <td>Female</td>\n",
              "      <td>United States</td>\n",
              "      <td>30.0</td>\n",
              "      <td>Employed part-time</td>\n",
              "      <td>Computer Scientist</td>\n",
              "      <td>2</td>\n",
              "      <td>Employed by non-profit or NGO</td>\n",
              "      <td>Python</td>\n",
              "      <td>Deep learning</td>\n",
              "      <td>Python</td>\n",
              "      <td>1</td>\n",
              "      <td>2</td>\n",
              "      <td>2</td>\n",
              "      <td>2</td>\n",
              "      <td>2</td>\n",
              "      <td>2</td>\n",
              "      <td>Sort of (Explain more)</td>\n",
              "      <td>Doctoral degree</td>\n",
              "      <td>Electrical Engineering</td>\n",
              "      <td>3</td>\n",
              "      <td>Researcher</td>\n",
              "      <td>Computer Vision,Supervised Machine Learning (T...</td>\n",
              "      <td>Decision Trees - Gradient Boosted Machines,Dec...</td>\n",
              "      <td>Non-profit</td>\n",
              "      <td>3.0</td>\n",
              "      <td>3</td>\n",
              "      <td>CNNs,Decision Trees,Ensemble Methods,Gradient ...</td>\n",
              "      <td>2</td>\n",
              "      <td>3</td>\n",
              "      <td>3</td>\n",
              "      <td>3</td>\n",
              "      <td>2</td>\n",
              "      <td>3</td>\n",
              "      <td>1</td>\n",
              "      <td>2</td>\n",
              "      <td>2</td>\n",
              "      <td>3</td>\n",
              "      <td>1</td>\n",
              "      <td>2.000000</td>\n",
              "      <td>2</td>\n",
              "      <td>Approximately half internal and half external</td>\n",
              "      <td>Standalone Team</td>\n",
              "      <td>2</td>\n",
              "      <td>8</td>\n",
              "    </tr>\n",
              "    <tr>\n",
              "      <th>5527</th>\n",
              "      <td>Female</td>\n",
              "      <td>United States</td>\n",
              "      <td>29.0</td>\n",
              "      <td>Employed full-time</td>\n",
              "      <td>Operations Research Practitioner</td>\n",
              "      <td>1</td>\n",
              "      <td>Employed by professional services/consulting f...</td>\n",
              "      <td>Amazon Web services</td>\n",
              "      <td>Other</td>\n",
              "      <td>Python</td>\n",
              "      <td>2</td>\n",
              "      <td>2</td>\n",
              "      <td>2</td>\n",
              "      <td>2</td>\n",
              "      <td>2</td>\n",
              "      <td>1</td>\n",
              "      <td>Yes</td>\n",
              "      <td>Master's degree</td>\n",
              "      <td>Mathematics or statistics</td>\n",
              "      <td>4</td>\n",
              "      <td>Business Analyst,Operations Research Practitioner</td>\n",
              "      <td>Supervised Machine Learning (Tabular Data)</td>\n",
              "      <td>Decision Trees - Random Forests,Logistic Regre...</td>\n",
              "      <td>Mix of fields</td>\n",
              "      <td>2.0</td>\n",
              "      <td>3</td>\n",
              "      <td>Decision Trees,Regression/Logistic Regression</td>\n",
              "      <td>1</td>\n",
              "      <td>3</td>\n",
              "      <td>2</td>\n",
              "      <td>1</td>\n",
              "      <td>3</td>\n",
              "      <td>2</td>\n",
              "      <td>1</td>\n",
              "      <td>1</td>\n",
              "      <td>1</td>\n",
              "      <td>1</td>\n",
              "      <td>2</td>\n",
              "      <td>6.000000</td>\n",
              "      <td>4</td>\n",
              "      <td>More internal than external</td>\n",
              "      <td>Standalone Team</td>\n",
              "      <td>1</td>\n",
              "      <td>9</td>\n",
              "    </tr>\n",
              "    <tr>\n",
              "      <th>5528</th>\n",
              "      <td>Male</td>\n",
              "      <td>South Africa</td>\n",
              "      <td>35.0</td>\n",
              "      <td>Employed full-time</td>\n",
              "      <td>Statistician</td>\n",
              "      <td>1</td>\n",
              "      <td>Employed by professional services/consulting firm</td>\n",
              "      <td>R</td>\n",
              "      <td>Factor Analysis</td>\n",
              "      <td>Python</td>\n",
              "      <td>2</td>\n",
              "      <td>2</td>\n",
              "      <td>1</td>\n",
              "      <td>2</td>\n",
              "      <td>2</td>\n",
              "      <td>1</td>\n",
              "      <td>Sort of (Explain more)</td>\n",
              "      <td>Master's degree</td>\n",
              "      <td>Mathematics or statistics</td>\n",
              "      <td>3</td>\n",
              "      <td>Predictive Modeler,Researcher,Statistician</td>\n",
              "      <td>Time Series</td>\n",
              "      <td>Bayesian Techniques,Logistic Regression</td>\n",
              "      <td>Financial</td>\n",
              "      <td>2.0</td>\n",
              "      <td>2</td>\n",
              "      <td>Bayesian Techniques,Regression/Logistic Regres...</td>\n",
              "      <td>3</td>\n",
              "      <td>1</td>\n",
              "      <td>3</td>\n",
              "      <td>3</td>\n",
              "      <td>3</td>\n",
              "      <td>2</td>\n",
              "      <td>1</td>\n",
              "      <td>2</td>\n",
              "      <td>1</td>\n",
              "      <td>2</td>\n",
              "      <td>2</td>\n",
              "      <td>8.000000</td>\n",
              "      <td>1</td>\n",
              "      <td>More internal than external</td>\n",
              "      <td>Standalone Team</td>\n",
              "      <td>1</td>\n",
              "      <td>8</td>\n",
              "    </tr>\n",
              "  </tbody>\n",
              "</table>\n",
              "<p>5529 rows × 44 columns</p>\n",
              "</div>"
            ],
            "text/plain": [
              "     GenderSelect        Country  ...  RemoteWork JobSatisfaction\n",
              "0            Male       Pakistan  ...           2               4\n",
              "1            Male         Mexico  ...           2               7\n",
              "2          Female  United States  ...           1               6\n",
              "3          Female  United States  ...           1               9\n",
              "4          Female  United States  ...           1               8\n",
              "...           ...            ...  ...         ...             ...\n",
              "5524         Male         Canada  ...           2               8\n",
              "5525         Male        Ireland  ...           1               8\n",
              "5526       Female  United States  ...           2               8\n",
              "5527       Female  United States  ...           1               9\n",
              "5528         Male   South Africa  ...           1               8\n",
              "\n",
              "[5529 rows x 44 columns]"
            ]
          },
          "metadata": {
            "tags": []
          },
          "execution_count": 76
        }
      ]
    },
    {
      "cell_type": "code",
      "metadata": {
        "colab": {
          "base_uri": "https://localhost:8080/",
          "height": 636
        },
        "id": "eaAmYFLp3Yz8",
        "outputId": "626e6f28-884a-4738-b1ac-4a319407c914"
      },
      "source": [
        "df_plot= df.groupby('WorkDataVisualizations').size()\r\n",
        "print(df_plot)\r\n",
        "df_plot.plot.pie(figsize=(8,8))\r\n"
      ],
      "execution_count": 85,
      "outputs": [
        {
          "output_type": "stream",
          "text": [
            "WorkDataVisualizations\n",
            "10-25% of projects            991\n",
            "100% of projects             1022\n",
            "26-50% of projects            711\n",
            "51-75% of projects            931\n",
            "76-99% of projects           1013\n",
            "Less than 10% of projects     702\n",
            "None                          130\n",
            "dtype: int64\n"
          ],
          "name": "stdout"
        },
        {
          "output_type": "execute_result",
          "data": {
            "text/plain": [
              "<matplotlib.axes._subplots.AxesSubplot at 0x7fec42654dd8>"
            ]
          },
          "metadata": {
            "tags": []
          },
          "execution_count": 85
        },
        {
          "output_type": "display_data",
          "data": {
            "image/png": "[encoded data removed]",
            "text/plain": [
              "<Figure size 576x576 with 1 Axes>"
            ]
          },
          "metadata": {
            "tags": []
          }
        }
      ]
    },
    {
      "cell_type": "code",
      "metadata": {
        "colab": {
          "base_uri": "https://localhost:8080/",
          "height": 296
        },
        "id": "DqvqJ8Or51ut",
        "outputId": "d00ef255-248a-40b8-fa84-5cdf8a68a101"
      },
      "source": [
        "import matplotlib.pyplot as plt\r\n",
        "\r\n",
        "# for the use of Python frequency\r\n",
        "df_plot = df.groupby(['WorkToolsFrequencyPython'])['JobSatisfaction'].mean()\r\n",
        "df_plot = df_plot.sort_values(ascending=False)\r\n",
        "df_plot.plot(kind='line',figsize=(6,4),colormap=\"magma\")\r\n",
        "\r\n",
        "# for the use of R frequency\r\n",
        "df_plot = df.groupby(['WorkToolsFrequencyR'])['JobSatisfaction'].mean()\r\n",
        "df_plot = df_plot.sort_values(ascending=False)\r\n",
        "df_plot.plot(kind='line',figsize=(6,4),colormap=\"Wistia_r\")\r\n",
        "\r\n",
        "# for the use of SQL frequency\r\n",
        "df_plot = df.groupby(['WorkToolsFrequencySQL'])['JobSatisfaction'].mean()\r\n",
        "df_plot = df_plot.sort_values(ascending=False)\r\n",
        "df_plot.plot(kind='line',figsize=(6,4),colormap=\"Accent\")"
      ],
      "execution_count": 111,
      "outputs": [
        {
          "output_type": "execute_result",
          "data": {
            "text/plain": [
              "<matplotlib.axes._subplots.AxesSubplot at 0x7fec41965748>"
            ]
          },
          "metadata": {
            "tags": []
          },
          "execution_count": 111
        },
        {
          "output_type": "display_data",
          "data": {
            "image/png": "[encoded data removed]",
            "text/plain": [
              "<Figure size 432x288 with 1 Axes>"
            ]
          },
          "metadata": {
            "tags": [],
            "needs_background": "light"
          }
        }
      ]
    },
    {
      "cell_type": "code",
      "metadata": {
        "colab": {
          "base_uri": "https://localhost:8080/",
          "height": 574
        },
        "id": "sV5ExcopDJUo",
        "outputId": "5132f080-2e83-4c28-bf8d-9271272639da"
      },
      "source": [
        "fig, axs = plt.subplots(1, 6, figsize=(22,8), sharey=True)\r\n",
        "fig.suptitle('Work Methods Frequency', fontsize=18)\r\n",
        "\r\n",
        "plt.subplot(1,6,1)\r\n",
        "df_plot = df_dropped.groupby(['WorkMethodsFrequencyCross-Validation'])['JobSatisfaction'].mean()\r\n",
        "df_plot = df_plot.sort_values(ascending=False)\r\n",
        "df_plot.plot(kind='kde',figsize=(5,3),colormap=\"magma\", subplots=bool)\r\n",
        "\r\n",
        "plt.subplot(1,6,2)\r\n",
        "df_plot = df_dropped.groupby(['WorkMethodsFrequencyDataVisualization'])['JobSatisfaction'].mean()\r\n",
        "df_plot = df_plot.sort_values(ascending=False)\r\n",
        "df_plot.plot(kind='kde',figsize=(5,3),colormap=\"Wistia_r\",subplots=bool)\r\n",
        "\r\n",
        "plt.subplot(1,6,3)\r\n",
        "df_plot = df_dropped.groupby(['WorkMethodsFrequencyDecisionTrees'])['JobSatisfaction'].mean()\r\n",
        "df_plot = df_plot.sort_values(ascending=False)\r\n",
        "df_plot.plot(kind='kde',figsize=(5,3),colormap=\"Accent\",subplots=bool)\r\n",
        "\r\n",
        "plt.subplot(1,6,4)\r\n",
        "df_plot = df_dropped.groupby(['WorkMethodsFrequencyLogisticRegression'])['JobSatisfaction'].mean()\r\n",
        "df_plot = df_plot.sort_values(ascending=False)\r\n",
        "df_plot.plot(kind='kde',figsize=(5,3),colormap=\"gist_rainbow\",subplots=bool)\r\n",
        "\r\n",
        "plt.subplot(1,6,5)\r\n",
        "df_plot = df_dropped.groupby(['WorkMethodsFrequencyRandomForests'])['JobSatisfaction'].mean()\r\n",
        "df_plot = df_plot.sort_values(ascending=False)\r\n",
        "df_plot.plot(kind='kde',figsize=(5,3),colormap=\"Set3_r\",subplots=bool)\r\n",
        "\r\n",
        "plt.subplot(1,6,6)\r\n",
        "df_plot = df_dropped.groupby(['WorkMethodsFrequencyTimeSeriesAnalysis'])['JobSatisfaction'].mean()\r\n",
        "df_plot = df_plot.sort_values(ascending=False)\r\n",
        "df_plot.plot(kind='kde',figsize=(5,3),colormap=\"gist_stern\",subplots=bool)\r\n"
      ],
      "execution_count": 126,
      "outputs": [
        {
          "output_type": "execute_result",
          "data": {
            "text/plain": [
              "array([<matplotlib.axes._subplots.AxesSubplot object at 0x7fec36a547b8>],\n",
              "      dtype=object)"
            ]
          },
          "metadata": {
            "tags": []
          },
          "execution_count": 126
        },
        {
          "output_type": "display_data",
          "data": {
            "image/png": "[encoded data removed]",
            "text/plain": [
              "<Figure size 1584x576 with 6 Axes>"
            ]
          },
          "metadata": {
            "tags": [],
            "needs_background": "light"
          }
        }
      ]
    }
  ]
}